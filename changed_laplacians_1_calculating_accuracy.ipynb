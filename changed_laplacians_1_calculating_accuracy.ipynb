{
  "cells": [
    {
      "cell_type": "markdown",
      "metadata": {
        "id": "view-in-github",
        "colab_type": "text"
      },
      "source": [
        "<a href=\"https://colab.research.google.com/github/Arminsbss/Simplicial-Neural-Network/blob/main/changed_laplacians_1_calculating_accuracy.ipynb\" target=\"_parent\"><img src=\"https://colab.research.google.com/assets/colab-badge.svg\" alt=\"Open In Colab\"/></a>"
      ]
    },
    {
      "cell_type": "code",
      "execution_count": null,
      "metadata": {
        "colab": {
          "base_uri": "https://localhost:8080/"
        },
        "id": "OHZT-6sqcHfI",
        "outputId": "ab1c257c-ed89-4ebb-a4f0-1f5913341b6d"
      },
      "outputs": [
        {
          "output_type": "stream",
          "name": "stdout",
          "text": [
            "Cloning into 'simplicial_neural_networks'...\n",
            "remote: Enumerating objects: 339, done.\u001b[K\n",
            "remote: Counting objects: 100% (59/59), done.\u001b[K\n",
            "remote: Compressing objects: 100% (11/11), done.\u001b[K\n",
            "remote: Total 339 (delta 50), reused 48 (delta 48), pack-reused 280\u001b[K\n",
            "Receiving objects: 100% (339/339), 2.42 MiB | 9.61 MiB/s, done.\n",
            "Resolving deltas: 100% (189/189), done.\n"
          ]
        }
      ],
      "source": [
        "!git clone https://github.com/stefaniaebli/simplicial_neural_networks.git"
      ]
    },
    {
      "cell_type": "code",
      "execution_count": null,
      "metadata": {
        "colab": {
          "base_uri": "https://localhost:8080/"
        },
        "id": "n3tatbPxbwAZ",
        "outputId": "883e6667-bdae-4fa1-9571-ebb37ef61273"
      },
      "outputs": [
        {
          "output_type": "stream",
          "name": "stdout",
          "text": [
            "/content/simplicial_neural_networks\n",
            "Traceback (most recent call last):\n",
            "  File \"/content/simplicial_neural_networks/./experiments/impute_citations.py\", line 202, in <module>\n",
            "    main()\n",
            "  File \"/content/simplicial_neural_networks/./experiments/impute_citations.py\", line 98, in main\n",
            "    Ls =[scnn.scnn.coo2tensor(scnn.chebyshev.normalize(laplacians[i],half_interval=True)) for i in range(topdim+1)] #####scnn.chebyshev.normalize ?\n",
            "  File \"/content/simplicial_neural_networks/./experiments/impute_citations.py\", line 98, in <listcomp>\n",
            "    Ls =[scnn.scnn.coo2tensor(scnn.chebyshev.normalize(laplacians[i],half_interval=True)) for i in range(topdim+1)] #####scnn.chebyshev.normalize ?\n",
            "  File \"/content/simplicial_neural_networks/./scnn/scnn.py\", line 9, in coo2tensor\n",
            "    idxs = torch.LongTensor(np.vstack((A.row, A.col)))\n",
            "  File \"/usr/local/lib/python3.10/dist-packages/scipy/sparse/_base.py\", line 771, in __getattr__\n",
            "    raise AttributeError(attr + \" not found\")\n",
            "AttributeError: row not found\n"
          ]
        }
      ],
      "source": [
        "%cd /content/simplicial_neural_networks\n",
        "!python ./experiments/impute_citations.py ./data/s2_3_collaboration_complex ./experiments/output 150250 30"
      ]
    },
    {
      "cell_type": "code",
      "execution_count": null,
      "metadata": {
        "colab": {
          "base_uri": "https://localhost:8080/"
        },
        "id": "ZTTkz5zKekDx",
        "outputId": "acc1c8db-89c4-43f9-97ea-090e46c5e0e1"
      },
      "outputs": [
        {
          "name": "stdout",
          "output_type": "stream",
          "text": [
            "6302\n"
          ]
        }
      ],
      "source": [
        "c=0\n",
        "for filename in os.listdir(folder_path):\n",
        "  c+=1\n",
        "print(c)"
      ]
    },
    {
      "cell_type": "code",
      "execution_count": null,
      "metadata": {
        "colab": {
          "base_uri": "https://localhost:8080/"
        },
        "id": "tcmJuwV0e1_8",
        "outputId": "b7adf2e1-768e-4a30-a44b-9d8e79524895"
      },
      "outputs": [
        {
          "name": "stdout",
          "output_type": "stream",
          "text": [
            "/content/simplicial_neural_networks/data/s2_3_collaboration_complex\n"
          ]
        }
      ],
      "source": [
        "%cd /content/simplicial_neural_networks/data/s2_3_collaboration_complex\n",
        "laplacians = np.load('150250_laplacians.npy',allow_pickle=True)"
      ]
    },
    {
      "cell_type": "markdown",
      "metadata": {
        "id": "2nzWa9Weg7me"
      },
      "source": [
        "**Accuracy for 1/2 L_1**"
      ]
    },
    {
      "cell_type": "code",
      "execution_count": null,
      "metadata": {
        "colab": {
          "base_uri": "https://localhost:8080/"
        },
        "id": "E6sxTANf40H0",
        "outputId": "a42996ae-9153-41f2-b83a-75a2f12bdb46"
      },
      "outputs": [
        {
          "name": "stdout",
          "output_type": "stream",
          "text": [
            "/content/simplicial_neural_networks/experiments/output\n",
            "1000\n",
            "Accuracy: 0.6437439024390244\n"
          ]
        }
      ],
      "source": [
        "#calculating accuracy for the 0-laplacian\n",
        "%cd /content/simplicial_neural_networks/experiments/output\n",
        "\n",
        "import os\n",
        "import numpy as np\n",
        "from sklearn.metrics import accuracy_score\n",
        "\n",
        "folder_path = '/content/simplicial_neural_networks/experiments/output'\n",
        "\n",
        "files = os.listdir(folder_path)\n",
        "files.sort()\n",
        "\n",
        "prediction = []\n",
        "actual = []\n",
        "\n",
        "counter=0\n",
        "counter2=0\n",
        "for filename in os.listdir('.'):\n",
        "  if filename.startswith('prediction') and filename.endswith('0.txt'):\n",
        "    with open(filename, 'r') as f:\n",
        "        numbers_str = f.read()\n",
        "    numbers_list = numbers_str.split()\n",
        "    numbers_int = list(map(float, numbers_list))\n",
        "    prediction += numbers_int\n",
        "    counter+=1\n",
        "  elif filename.startswith('actual') and filename.endswith('0.txt'):\n",
        "    with open(filename, 'r') as f:\n",
        "        numbers_str = f.read()\n",
        "    numbers_list = numbers_str.split()\n",
        "    numbers_int = list(map(float, numbers_list))\n",
        "    actual += numbers_int\n",
        "    counter2+=1\n",
        "prediction = [round(x, 0) for x in prediction]\n",
        "actual = [round(x, 0) for x in actual]\n",
        "\n",
        "print(counter2)\n",
        "accuracy = accuracy_score(actual, prediction)\n",
        "print(f'Accuracy: {accuracy}')"
      ]
    },
    {
      "cell_type": "code",
      "execution_count": null,
      "metadata": {
        "colab": {
          "base_uri": "https://localhost:8080/"
        },
        "id": "0rQW3ymG6jUo",
        "outputId": "eec7dd31-f12b-47e7-8d5b-05094f33a58d"
      },
      "outputs": [
        {
          "name": "stdout",
          "output_type": "stream",
          "text": [
            "1000\n",
            "Accuracy: 0.652627546071775\n"
          ]
        }
      ],
      "source": [
        "#calculating accuracy for the 1-laplacian\n",
        "\n",
        "import os\n",
        "import numpy as np\n",
        "from sklearn.metrics import accuracy_score\n",
        "\n",
        "folder_path = '/content/simplicial_neural_networks/experiments/output'\n",
        "\n",
        "files = os.listdir(folder_path)\n",
        "files.sort()\n",
        "\n",
        "prediction = []\n",
        "actual = []\n",
        "\n",
        "counter=0\n",
        "\n",
        "for filename in os.listdir('.'):\n",
        "    if filename.startswith('prediction') and filename.endswith('1.txt'):\n",
        "        with open(filename, 'r') as f:\n",
        "            numbers_str = f.read()\n",
        "        numbers_list = numbers_str.split()\n",
        "        numbers_int = list(map(float, numbers_list))\n",
        "        prediction += numbers_int\n",
        "        counter+=1\n",
        "    elif filename.startswith('actual') and filename.endswith('1.txt'):\n",
        "        with open(filename, 'r') as f:\n",
        "            numbers_str = f.read()\n",
        "        numbers_list = numbers_str.split()\n",
        "        numbers_int = list(map(float, numbers_list))\n",
        "        actual += numbers_int\n",
        "prediction = [round(x, 0) for x in prediction]\n",
        "actual = [round(x, 0) for x in actual]\n",
        "\n",
        "print(counter)\n",
        "accuracy = accuracy_score(actual, prediction)\n",
        "print(f'Accuracy: {accuracy}')"
      ]
    },
    {
      "cell_type": "code",
      "execution_count": null,
      "metadata": {
        "colab": {
          "base_uri": "https://localhost:8080/"
        },
        "id": "R7BQLmNb6m93",
        "outputId": "5352e1f1-58d7-4271-d82f-ce5c555e373b"
      },
      "outputs": [
        {
          "name": "stdout",
          "output_type": "stream",
          "text": [
            "1000\n",
            "Accuracy: 0.6756163549369291\n"
          ]
        }
      ],
      "source": [
        "#calculating accuracy for the 2-laplacian\n",
        "\n",
        "import os\n",
        "import numpy as np\n",
        "from sklearn.metrics import accuracy_score\n",
        "\n",
        "folder_path = '/content/simplicial_neural_networks/experiments/output'\n",
        "\n",
        "files = os.listdir(folder_path)\n",
        "files.sort()\n",
        "\n",
        "prediction = []\n",
        "actual = []\n",
        "\n",
        "counter=0\n",
        "\n",
        "for filename in os.listdir('.'):\n",
        "    if filename.startswith('prediction') and filename.endswith('2.txt'):\n",
        "        with open(filename, 'r') as f:\n",
        "            numbers_str = f.read()\n",
        "        numbers_list = numbers_str.split()\n",
        "        numbers_int = list(map(float, numbers_list))\n",
        "        prediction += numbers_int\n",
        "        counter+=1\n",
        "    elif filename.startswith('actual') and filename.endswith('2.txt'):\n",
        "        with open(filename, 'r') as f:\n",
        "            numbers_str = f.read()\n",
        "        numbers_list = numbers_str.split()\n",
        "        numbers_int = list(map(float, numbers_list))\n",
        "        actual += numbers_int\n",
        "prediction = [round(x, 0) for x in prediction]\n",
        "actual = [round(x, 0) for x in actual]\n",
        "\n",
        "print(counter)\n",
        "accuracy = accuracy_score(actual, prediction)\n",
        "print(f'Accuracy: {accuracy}')"
      ]
    },
    {
      "cell_type": "markdown",
      "metadata": {
        "id": "Kx_Ov1GOhREF"
      },
      "source": []
    },
    {
      "cell_type": "markdown",
      "metadata": {
        "id": "8b03hGpuhRch"
      },
      "source": [
        "**Accuracy for 1/2 L_1  + I**"
      ]
    },
    {
      "cell_type": "code",
      "execution_count": null,
      "metadata": {
        "colab": {
          "base_uri": "https://localhost:8080/"
        },
        "id": "DPTI-MrFhRch",
        "outputId": "b0407efc-74b6-4de2-c235-2ad47a78529f"
      },
      "outputs": [
        {
          "output_type": "stream",
          "name": "stdout",
          "text": [
            "/content/simplicial_neural_networks/experiments/output\n",
            "1000\n",
            "Accuracy: 0.6454959349593496\n"
          ]
        }
      ],
      "source": [
        "#calculating accuracy for the 0-laplacian\n",
        "%cd /content/simplicial_neural_networks/experiments/output\n",
        "\n",
        "import os\n",
        "import numpy as np\n",
        "from sklearn.metrics import accuracy_score\n",
        "\n",
        "folder_path = '/content/simplicial_neural_networks/experiments/output'\n",
        "\n",
        "files = os.listdir(folder_path)\n",
        "files.sort()\n",
        "\n",
        "prediction = []\n",
        "actual = []\n",
        "\n",
        "counter=0\n",
        "counter2=0\n",
        "for filename in os.listdir('.'):\n",
        "  if filename.startswith('prediction') and filename.endswith('0.txt'):\n",
        "    with open(filename, 'r') as f:\n",
        "        numbers_str = f.read()\n",
        "    numbers_list = numbers_str.split()\n",
        "    numbers_int = list(map(float, numbers_list))\n",
        "    prediction += numbers_int\n",
        "    counter+=1\n",
        "  elif filename.startswith('actual') and filename.endswith('0.txt'):\n",
        "    with open(filename, 'r') as f:\n",
        "        numbers_str = f.read()\n",
        "    numbers_list = numbers_str.split()\n",
        "    numbers_int = list(map(float, numbers_list))\n",
        "    actual += numbers_int\n",
        "    counter2+=1\n",
        "prediction = [round(x, 0) for x in prediction]\n",
        "actual = [round(x, 0) for x in actual]\n",
        "\n",
        "print(counter2)\n",
        "accuracy = accuracy_score(actual, prediction)\n",
        "print(f'Accuracy: {accuracy}')"
      ]
    },
    {
      "cell_type": "code",
      "execution_count": null,
      "metadata": {
        "colab": {
          "base_uri": "https://localhost:8080/"
        },
        "id": "O_2xSsm7hRcj",
        "outputId": "eb893eb7-adf0-4462-9551-2d2553f6d0ca"
      },
      "outputs": [
        {
          "output_type": "stream",
          "name": "stdout",
          "text": [
            "1000\n",
            "Accuracy: 0.6479272550921436\n"
          ]
        }
      ],
      "source": [
        "#calculating accuracy for the 1-laplacian\n",
        "\n",
        "import os\n",
        "import numpy as np\n",
        "from sklearn.metrics import accuracy_score\n",
        "\n",
        "folder_path = '/content/simplicial_neural_networks/experiments/output'\n",
        "\n",
        "files = os.listdir(folder_path)\n",
        "files.sort()\n",
        "\n",
        "prediction = []\n",
        "actual = []\n",
        "\n",
        "counter=0\n",
        "\n",
        "for filename in os.listdir('.'):\n",
        "    if filename.startswith('prediction') and filename.endswith('1.txt'):\n",
        "        with open(filename, 'r') as f:\n",
        "            numbers_str = f.read()\n",
        "        numbers_list = numbers_str.split()\n",
        "        numbers_int = list(map(float, numbers_list))\n",
        "        prediction += numbers_int\n",
        "        counter+=1\n",
        "    elif filename.startswith('actual') and filename.endswith('1.txt'):\n",
        "        with open(filename, 'r') as f:\n",
        "            numbers_str = f.read()\n",
        "        numbers_list = numbers_str.split()\n",
        "        numbers_int = list(map(float, numbers_list))\n",
        "        actual += numbers_int\n",
        "prediction = [round(x, 0) for x in prediction]\n",
        "actual = [round(x, 0) for x in actual]\n",
        "\n",
        "print(counter)\n",
        "accuracy = accuracy_score(actual, prediction)\n",
        "print(f'Accuracy: {accuracy}')"
      ]
    },
    {
      "cell_type": "code",
      "execution_count": null,
      "metadata": {
        "colab": {
          "base_uri": "https://localhost:8080/"
        },
        "id": "e8kgn2TohRcj",
        "outputId": "9ab6181b-8768-4178-c51e-a4d46f746703"
      },
      "outputs": [
        {
          "output_type": "stream",
          "name": "stdout",
          "text": [
            "Accuracy: 0.6752018268812527\n"
          ]
        }
      ],
      "source": [
        "#calculating accuracy for the 2-laplacian\n",
        "\n",
        "import os\n",
        "import numpy as np\n",
        "from sklearn.metrics import accuracy_score\n",
        "\n",
        "folder_path = '/content/simplicial_neural_networks/experiments/output'\n",
        "\n",
        "files = os.listdir(folder_path)\n",
        "files.sort()\n",
        "\n",
        "prediction = []\n",
        "actual = []\n",
        "\n",
        "counter=0\n",
        "\n",
        "for filename in os.listdir('.'):\n",
        "    if filename.startswith('prediction') and filename.endswith('2.txt'):\n",
        "        with open(filename, 'r') as f:\n",
        "            numbers_str = f.read()\n",
        "        numbers_list = numbers_str.split()\n",
        "        numbers_int = list(map(float, numbers_list))\n",
        "        prediction += numbers_int\n",
        "        counter+=1\n",
        "    elif filename.startswith('actual') and filename.endswith('2.txt'):\n",
        "        with open(filename, 'r') as f:\n",
        "            numbers_str = f.read()\n",
        "        numbers_list = numbers_str.split()\n",
        "        numbers_int = list(map(float, numbers_list))\n",
        "        actual += numbers_int\n",
        "prediction = [round(x, 0) for x in prediction]\n",
        "actual = [round(x, 0) for x in actual]\n",
        "\n",
        "print(counter)\n",
        "accuracy = accuracy_score(actual, prediction)\n",
        "print(f'Accuracy: {accuracy}')"
      ]
    },
    {
      "cell_type": "markdown",
      "metadata": {
        "id": "tOgsTKAPhUft"
      },
      "source": []
    },
    {
      "cell_type": "markdown",
      "metadata": {
        "id": "qDqoBbtMhUtt"
      },
      "source": [
        "**Accuracy for inv(1/2 L_1  + I)**"
      ]
    },
    {
      "cell_type": "code",
      "execution_count": null,
      "metadata": {
        "colab": {
          "base_uri": "https://localhost:8080/"
        },
        "id": "L24YOp6_hUtu",
        "outputId": "a42996ae-9153-41f2-b83a-75a2f12bdb46"
      },
      "outputs": [
        {
          "name": "stdout",
          "output_type": "stream",
          "text": [
            "/content/simplicial_neural_networks/experiments/output\n",
            "1000\n",
            "Accuracy: 0.6437439024390244\n"
          ]
        }
      ],
      "source": [
        "#calculating accuracy for the 0-laplacian\n",
        "%cd /content/simplicial_neural_networks/experiments/output\n",
        "\n",
        "import os\n",
        "import numpy as np\n",
        "from sklearn.metrics import accuracy_score\n",
        "\n",
        "folder_path = '/content/simplicial_neural_networks/experiments/output'\n",
        "\n",
        "files = os.listdir(folder_path)\n",
        "files.sort()\n",
        "\n",
        "prediction = []\n",
        "actual = []\n",
        "\n",
        "counter=0\n",
        "counter2=0\n",
        "for filename in os.listdir('.'):\n",
        "  if filename.startswith('prediction') and filename.endswith('0.txt'):\n",
        "    with open(filename, 'r') as f:\n",
        "        numbers_str = f.read()\n",
        "    numbers_list = numbers_str.split()\n",
        "    numbers_int = list(map(float, numbers_list))\n",
        "    prediction += numbers_int\n",
        "    counter+=1\n",
        "  elif filename.startswith('actual') and filename.endswith('0.txt'):\n",
        "    with open(filename, 'r') as f:\n",
        "        numbers_str = f.read()\n",
        "    numbers_list = numbers_str.split()\n",
        "    numbers_int = list(map(float, numbers_list))\n",
        "    actual += numbers_int\n",
        "    counter2+=1\n",
        "prediction = [round(x, 0) for x in prediction]\n",
        "actual = [round(x, 0) for x in actual]\n",
        "\n",
        "print(counter2)\n",
        "accuracy = accuracy_score(actual, prediction)\n",
        "print(f'Accuracy: {accuracy}')"
      ]
    },
    {
      "cell_type": "code",
      "execution_count": null,
      "metadata": {
        "colab": {
          "base_uri": "https://localhost:8080/"
        },
        "id": "xUEP7JSthUtu",
        "outputId": "eec7dd31-f12b-47e7-8d5b-05094f33a58d"
      },
      "outputs": [
        {
          "name": "stdout",
          "output_type": "stream",
          "text": [
            "1000\n",
            "Accuracy: 0.652627546071775\n"
          ]
        }
      ],
      "source": [
        "#calculating accuracy for the 1-laplacian\n",
        "\n",
        "import os\n",
        "import numpy as np\n",
        "from sklearn.metrics import accuracy_score\n",
        "\n",
        "folder_path = '/content/simplicial_neural_networks/experiments/output'\n",
        "\n",
        "files = os.listdir(folder_path)\n",
        "files.sort()\n",
        "\n",
        "prediction = []\n",
        "actual = []\n",
        "\n",
        "counter=0\n",
        "\n",
        "for filename in os.listdir('.'):\n",
        "    if filename.startswith('prediction') and filename.endswith('1.txt'):\n",
        "        with open(filename, 'r') as f:\n",
        "            numbers_str = f.read()\n",
        "        numbers_list = numbers_str.split()\n",
        "        numbers_int = list(map(float, numbers_list))\n",
        "        prediction += numbers_int\n",
        "        counter+=1\n",
        "    elif filename.startswith('actual') and filename.endswith('1.txt'):\n",
        "        with open(filename, 'r') as f:\n",
        "            numbers_str = f.read()\n",
        "        numbers_list = numbers_str.split()\n",
        "        numbers_int = list(map(float, numbers_list))\n",
        "        actual += numbers_int\n",
        "prediction = [round(x, 0) for x in prediction]\n",
        "actual = [round(x, 0) for x in actual]\n",
        "\n",
        "print(counter)\n",
        "accuracy = accuracy_score(actual, prediction)\n",
        "print(f'Accuracy: {accuracy}')"
      ]
    },
    {
      "cell_type": "code",
      "execution_count": null,
      "metadata": {
        "colab": {
          "base_uri": "https://localhost:8080/"
        },
        "id": "SO3DPouBhUtv",
        "outputId": "5352e1f1-58d7-4271-d82f-ce5c555e373b"
      },
      "outputs": [
        {
          "name": "stdout",
          "output_type": "stream",
          "text": [
            "1000\n",
            "Accuracy: 0.6756163549369291\n"
          ]
        }
      ],
      "source": [
        "#calculating accuracy for the 2-laplacian\n",
        "\n",
        "import os\n",
        "import numpy as np\n",
        "from sklearn.metrics import accuracy_score\n",
        "\n",
        "folder_path = '/content/simplicial_neural_networks/experiments/output'\n",
        "\n",
        "files = os.listdir(folder_path)\n",
        "files.sort()\n",
        "\n",
        "prediction = []\n",
        "actual = []\n",
        "\n",
        "counter=0\n",
        "\n",
        "for filename in os.listdir('.'):\n",
        "    if filename.startswith('prediction') and filename.endswith('2.txt'):\n",
        "        with open(filename, 'r') as f:\n",
        "            numbers_str = f.read()\n",
        "        numbers_list = numbers_str.split()\n",
        "        numbers_int = list(map(float, numbers_list))\n",
        "        prediction += numbers_int\n",
        "        counter+=1\n",
        "    elif filename.startswith('actual') and filename.endswith('2.txt'):\n",
        "        with open(filename, 'r') as f:\n",
        "            numbers_str = f.read()\n",
        "        numbers_list = numbers_str.split()\n",
        "        numbers_int = list(map(float, numbers_list))\n",
        "        actual += numbers_int\n",
        "prediction = [round(x, 0) for x in prediction]\n",
        "actual = [round(x, 0) for x in actual]\n",
        "\n",
        "print(counter)\n",
        "accuracy = accuracy_score(actual, prediction)\n",
        "print(f'Accuracy: {accuracy}')"
      ]
    },
    {
      "cell_type": "markdown",
      "metadata": {
        "id": "yIL5kRmhhVU1"
      },
      "source": []
    },
    {
      "cell_type": "markdown",
      "metadata": {
        "id": "Ar9WQ4myhVck"
      },
      "source": [
        "**Accuracy for 1/2 L**"
      ]
    },
    {
      "cell_type": "code",
      "execution_count": null,
      "metadata": {
        "colab": {
          "base_uri": "https://localhost:8080/"
        },
        "id": "ejNKlWXYhVcl",
        "outputId": "a42996ae-9153-41f2-b83a-75a2f12bdb46"
      },
      "outputs": [
        {
          "name": "stdout",
          "output_type": "stream",
          "text": [
            "/content/simplicial_neural_networks/experiments/output\n",
            "1000\n",
            "Accuracy: 0.6437439024390244\n"
          ]
        }
      ],
      "source": [
        "#calculating accuracy for the 0-laplacian\n",
        "%cd /content/simplicial_neural_networks/experiments/output\n",
        "\n",
        "import os\n",
        "import numpy as np\n",
        "from sklearn.metrics import accuracy_score\n",
        "\n",
        "folder_path = '/content/simplicial_neural_networks/experiments/output'\n",
        "\n",
        "files = os.listdir(folder_path)\n",
        "files.sort()\n",
        "\n",
        "prediction = []\n",
        "actual = []\n",
        "\n",
        "counter=0\n",
        "counter2=0\n",
        "for filename in os.listdir('.'):\n",
        "  if filename.startswith('prediction') and filename.endswith('0.txt'):\n",
        "    with open(filename, 'r') as f:\n",
        "        numbers_str = f.read()\n",
        "    numbers_list = numbers_str.split()\n",
        "    numbers_int = list(map(float, numbers_list))\n",
        "    prediction += numbers_int\n",
        "    counter+=1\n",
        "  elif filename.startswith('actual') and filename.endswith('0.txt'):\n",
        "    with open(filename, 'r') as f:\n",
        "        numbers_str = f.read()\n",
        "    numbers_list = numbers_str.split()\n",
        "    numbers_int = list(map(float, numbers_list))\n",
        "    actual += numbers_int\n",
        "    counter2+=1\n",
        "prediction = [round(x, 0) for x in prediction]\n",
        "actual = [round(x, 0) for x in actual]\n",
        "\n",
        "print(counter2)\n",
        "accuracy = accuracy_score(actual, prediction)\n",
        "print(f'Accuracy: {accuracy}')"
      ]
    },
    {
      "cell_type": "code",
      "execution_count": null,
      "metadata": {
        "colab": {
          "base_uri": "https://localhost:8080/"
        },
        "id": "M4PNMe90hVcm",
        "outputId": "eec7dd31-f12b-47e7-8d5b-05094f33a58d"
      },
      "outputs": [
        {
          "name": "stdout",
          "output_type": "stream",
          "text": [
            "1000\n",
            "Accuracy: 0.652627546071775\n"
          ]
        }
      ],
      "source": [
        "#calculating accuracy for the 1-laplacian\n",
        "\n",
        "import os\n",
        "import numpy as np\n",
        "from sklearn.metrics import accuracy_score\n",
        "\n",
        "folder_path = '/content/simplicial_neural_networks/experiments/output'\n",
        "\n",
        "files = os.listdir(folder_path)\n",
        "files.sort()\n",
        "\n",
        "prediction = []\n",
        "actual = []\n",
        "\n",
        "counter=0\n",
        "\n",
        "for filename in os.listdir('.'):\n",
        "    if filename.startswith('prediction') and filename.endswith('1.txt'):\n",
        "        with open(filename, 'r') as f:\n",
        "            numbers_str = f.read()\n",
        "        numbers_list = numbers_str.split()\n",
        "        numbers_int = list(map(float, numbers_list))\n",
        "        prediction += numbers_int\n",
        "        counter+=1\n",
        "    elif filename.startswith('actual') and filename.endswith('1.txt'):\n",
        "        with open(filename, 'r') as f:\n",
        "            numbers_str = f.read()\n",
        "        numbers_list = numbers_str.split()\n",
        "        numbers_int = list(map(float, numbers_list))\n",
        "        actual += numbers_int\n",
        "prediction = [round(x, 0) for x in prediction]\n",
        "actual = [round(x, 0) for x in actual]\n",
        "\n",
        "print(counter)\n",
        "accuracy = accuracy_score(actual, prediction)\n",
        "print(f'Accuracy: {accuracy}')"
      ]
    },
    {
      "cell_type": "code",
      "execution_count": null,
      "metadata": {
        "colab": {
          "base_uri": "https://localhost:8080/"
        },
        "id": "CW13aMsahVcm",
        "outputId": "5352e1f1-58d7-4271-d82f-ce5c555e373b"
      },
      "outputs": [
        {
          "name": "stdout",
          "output_type": "stream",
          "text": [
            "1000\n",
            "Accuracy: 0.6756163549369291\n"
          ]
        }
      ],
      "source": [
        "#calculating accuracy for the 2-laplacian\n",
        "\n",
        "import os\n",
        "import numpy as np\n",
        "from sklearn.metrics import accuracy_score\n",
        "\n",
        "folder_path = '/content/simplicial_neural_networks/experiments/output'\n",
        "\n",
        "files = os.listdir(folder_path)\n",
        "files.sort()\n",
        "\n",
        "prediction = []\n",
        "actual = []\n",
        "\n",
        "counter=0\n",
        "\n",
        "for filename in os.listdir('.'):\n",
        "    if filename.startswith('prediction') and filename.endswith('2.txt'):\n",
        "        with open(filename, 'r') as f:\n",
        "            numbers_str = f.read()\n",
        "        numbers_list = numbers_str.split()\n",
        "        numbers_int = list(map(float, numbers_list))\n",
        "        prediction += numbers_int\n",
        "        counter+=1\n",
        "    elif filename.startswith('actual') and filename.endswith('2.txt'):\n",
        "        with open(filename, 'r') as f:\n",
        "            numbers_str = f.read()\n",
        "        numbers_list = numbers_str.split()\n",
        "        numbers_int = list(map(float, numbers_list))\n",
        "        actual += numbers_int\n",
        "prediction = [round(x, 0) for x in prediction]\n",
        "actual = [round(x, 0) for x in actual]\n",
        "\n",
        "print(counter)\n",
        "accuracy = accuracy_score(actual, prediction)\n",
        "print(f'Accuracy: {accuracy}')"
      ]
    },
    {
      "cell_type": "markdown",
      "metadata": {
        "id": "_v1o6eyEhWWF"
      },
      "source": []
    },
    {
      "cell_type": "markdown",
      "metadata": {
        "id": "PBIS2TwghWeE"
      },
      "source": [
        "**Accuracy for 1/2 L**"
      ]
    },
    {
      "cell_type": "code",
      "execution_count": null,
      "metadata": {
        "colab": {
          "base_uri": "https://localhost:8080/"
        },
        "id": "_ggyF63ZhWeE",
        "outputId": "a42996ae-9153-41f2-b83a-75a2f12bdb46"
      },
      "outputs": [
        {
          "name": "stdout",
          "output_type": "stream",
          "text": [
            "/content/simplicial_neural_networks/experiments/output\n",
            "1000\n",
            "Accuracy: 0.6437439024390244\n"
          ]
        }
      ],
      "source": [
        "#calculating accuracy for the 0-laplacian\n",
        "%cd /content/simplicial_neural_networks/experiments/output\n",
        "\n",
        "import os\n",
        "import numpy as np\n",
        "from sklearn.metrics import accuracy_score\n",
        "\n",
        "folder_path = '/content/simplicial_neural_networks/experiments/output'\n",
        "\n",
        "files = os.listdir(folder_path)\n",
        "files.sort()\n",
        "\n",
        "prediction = []\n",
        "actual = []\n",
        "\n",
        "counter=0\n",
        "counter2=0\n",
        "for filename in os.listdir('.'):\n",
        "  if filename.startswith('prediction') and filename.endswith('0.txt'):\n",
        "    with open(filename, 'r') as f:\n",
        "        numbers_str = f.read()\n",
        "    numbers_list = numbers_str.split()\n",
        "    numbers_int = list(map(float, numbers_list))\n",
        "    prediction += numbers_int\n",
        "    counter+=1\n",
        "  elif filename.startswith('actual') and filename.endswith('0.txt'):\n",
        "    with open(filename, 'r') as f:\n",
        "        numbers_str = f.read()\n",
        "    numbers_list = numbers_str.split()\n",
        "    numbers_int = list(map(float, numbers_list))\n",
        "    actual += numbers_int\n",
        "    counter2+=1\n",
        "prediction = [round(x, 0) for x in prediction]\n",
        "actual = [round(x, 0) for x in actual]\n",
        "\n",
        "print(counter2)\n",
        "accuracy = accuracy_score(actual, prediction)\n",
        "print(f'Accuracy: {accuracy}')"
      ]
    },
    {
      "cell_type": "code",
      "execution_count": null,
      "metadata": {
        "colab": {
          "base_uri": "https://localhost:8080/"
        },
        "id": "xNgnCpzPhWeF",
        "outputId": "eec7dd31-f12b-47e7-8d5b-05094f33a58d"
      },
      "outputs": [
        {
          "name": "stdout",
          "output_type": "stream",
          "text": [
            "1000\n",
            "Accuracy: 0.652627546071775\n"
          ]
        }
      ],
      "source": [
        "#calculating accuracy for the 1-laplacian\n",
        "\n",
        "import os\n",
        "import numpy as np\n",
        "from sklearn.metrics import accuracy_score\n",
        "\n",
        "folder_path = '/content/simplicial_neural_networks/experiments/output'\n",
        "\n",
        "files = os.listdir(folder_path)\n",
        "files.sort()\n",
        "\n",
        "prediction = []\n",
        "actual = []\n",
        "\n",
        "counter=0\n",
        "\n",
        "for filename in os.listdir('.'):\n",
        "    if filename.startswith('prediction') and filename.endswith('1.txt'):\n",
        "        with open(filename, 'r') as f:\n",
        "            numbers_str = f.read()\n",
        "        numbers_list = numbers_str.split()\n",
        "        numbers_int = list(map(float, numbers_list))\n",
        "        prediction += numbers_int\n",
        "        counter+=1\n",
        "    elif filename.startswith('actual') and filename.endswith('1.txt'):\n",
        "        with open(filename, 'r') as f:\n",
        "            numbers_str = f.read()\n",
        "        numbers_list = numbers_str.split()\n",
        "        numbers_int = list(map(float, numbers_list))\n",
        "        actual += numbers_int\n",
        "prediction = [round(x, 0) for x in prediction]\n",
        "actual = [round(x, 0) for x in actual]\n",
        "\n",
        "print(counter)\n",
        "accuracy = accuracy_score(actual, prediction)\n",
        "print(f'Accuracy: {accuracy}')"
      ]
    },
    {
      "cell_type": "code",
      "execution_count": null,
      "metadata": {
        "colab": {
          "base_uri": "https://localhost:8080/"
        },
        "id": "LJy2Cpe8hWeG",
        "outputId": "5352e1f1-58d7-4271-d82f-ce5c555e373b"
      },
      "outputs": [
        {
          "name": "stdout",
          "output_type": "stream",
          "text": [
            "1000\n",
            "Accuracy: 0.6756163549369291\n"
          ]
        }
      ],
      "source": [
        "#calculating accuracy for the 2-laplacian\n",
        "\n",
        "import os\n",
        "import numpy as np\n",
        "from sklearn.metrics import accuracy_score\n",
        "\n",
        "folder_path = '/content/simplicial_neural_networks/experiments/output'\n",
        "\n",
        "files = os.listdir(folder_path)\n",
        "files.sort()\n",
        "\n",
        "prediction = []\n",
        "actual = []\n",
        "\n",
        "counter=0\n",
        "\n",
        "for filename in os.listdir('.'):\n",
        "    if filename.startswith('prediction') and filename.endswith('2.txt'):\n",
        "        with open(filename, 'r') as f:\n",
        "            numbers_str = f.read()\n",
        "        numbers_list = numbers_str.split()\n",
        "        numbers_int = list(map(float, numbers_list))\n",
        "        prediction += numbers_int\n",
        "        counter+=1\n",
        "    elif filename.startswith('actual') and filename.endswith('2.txt'):\n",
        "        with open(filename, 'r') as f:\n",
        "            numbers_str = f.read()\n",
        "        numbers_list = numbers_str.split()\n",
        "        numbers_int = list(map(float, numbers_list))\n",
        "        actual += numbers_int\n",
        "prediction = [round(x, 0) for x in prediction]\n",
        "actual = [round(x, 0) for x in actual]\n",
        "\n",
        "print(counter)\n",
        "accuracy = accuracy_score(actual, prediction)\n",
        "print(f'Accuracy: {accuracy}')"
      ]
    }
  ],
  "metadata": {
    "colab": {
      "provenance": [],
      "authorship_tag": "ABX9TyNoe3gbDt6t7GVnCsj/9R0s",
      "include_colab_link": true
    },
    "kernelspec": {
      "display_name": "Python 3",
      "name": "python3"
    },
    "language_info": {
      "name": "python"
    }
  },
  "nbformat": 4,
  "nbformat_minor": 0
}