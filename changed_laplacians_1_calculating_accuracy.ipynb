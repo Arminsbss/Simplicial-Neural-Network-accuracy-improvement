{
  "nbformat": 4,
  "nbformat_minor": 0,
  "metadata": {
    "colab": {
      "provenance": [],
      "authorship_tag": "ABX9TyOZUFUixJXziAvp1oZTZN5U",
      "include_colab_link": true
    },
    "kernelspec": {
      "name": "python3",
      "display_name": "Python 3"
    },
    "language_info": {
      "name": "python"
    }
  },
  "cells": [
    {
      "cell_type": "markdown",
      "metadata": {
        "id": "view-in-github",
        "colab_type": "text"
      },
      "source": [
        "<a href=\"https://colab.research.google.com/github/Arminsbss/Simplicial-Neural-Network/blob/main/changed_laplacians_1_calculating_accuracy.ipynb\" target=\"_parent\"><img src=\"https://colab.research.google.com/assets/colab-badge.svg\" alt=\"Open In Colab\"/></a>"
      ]
    },
    {
      "cell_type": "code",
      "source": [
        "!git clone https://github.com/stefaniaebli/simplicial_neural_networks.git"
      ],
      "metadata": {
        "colab": {
          "base_uri": "https://localhost:8080/"
        },
        "id": "OHZT-6sqcHfI",
        "outputId": "a4067553-51b8-48eb-c1e2-a5b05d88862d"
      },
      "execution_count": null,
      "outputs": [
        {
          "output_type": "stream",
          "name": "stdout",
          "text": [
            "Cloning into 'simplicial_neural_networks'...\n",
            "remote: Enumerating objects: 339, done.\u001b[K\n",
            "remote: Counting objects: 100% (59/59), done.\u001b[K\n",
            "remote: Compressing objects: 100% (11/11), done.\u001b[K\n",
            "remote: Total 339 (delta 50), reused 48 (delta 48), pack-reused 280\u001b[K\n",
            "Receiving objects: 100% (339/339), 2.42 MiB | 25.56 MiB/s, done.\n",
            "Resolving deltas: 100% (189/189), done.\n"
          ]
        }
      ]
    },
    {
      "cell_type": "code",
      "execution_count": null,
      "metadata": {
        "colab": {
          "base_uri": "https://localhost:8080/"
        },
        "id": "n3tatbPxbwAZ",
        "outputId": "ba5f22b4-e6d2-42f2-9beb-44af13956746"
      },
      "outputs": [
        {
          "output_type": "stream",
          "name": "stdout",
          "text": [
            "/content/simplicial_neural_networks\n",
            "Parameter counts:\n",
            "150\n",
            "30\n",
            "4500\n",
            "30\n",
            "150\n",
            "1\n",
            "150\n",
            "30\n",
            "4500\n",
            "30\n",
            "150\n",
            "1\n",
            "150\n",
            "30\n",
            "4500\n",
            "30\n",
            "150\n",
            "1\n",
            "Total number of parameters: 14583\n",
            "[0.6988636363636364, 0.6994572591587517, 0.6998477929984779]\n"
          ]
        }
      ],
      "source": [
        "%cd /content/simplicial_neural_networks\n",
        "!python ./experiments/impute_citations.py ./data/s2_3_collaboration_complex ./experiments/output 150250 30"
      ]
    },
    {
      "cell_type": "code",
      "source": [
        "c=0\n",
        "for filename in os.listdir(folder_path):\n",
        "  c+=1\n",
        "print(c)"
      ],
      "metadata": {
        "colab": {
          "base_uri": "https://localhost:8080/"
        },
        "id": "ZTTkz5zKekDx",
        "outputId": "acc1c8db-89c4-43f9-97ea-090e46c5e0e1"
      },
      "execution_count": null,
      "outputs": [
        {
          "output_type": "stream",
          "name": "stdout",
          "text": [
            "6302\n"
          ]
        }
      ]
    },
    {
      "cell_type": "code",
      "source": [
        "%cd /content/simplicial_neural_networks/data/s2_3_collaboration_complex\n",
        "laplacians = np.load('150250_laplacians.npy',allow_pickle=True)"
      ],
      "metadata": {
        "colab": {
          "base_uri": "https://localhost:8080/"
        },
        "id": "tcmJuwV0e1_8",
        "outputId": "b7adf2e1-768e-4a30-a44b-9d8e79524895"
      },
      "execution_count": null,
      "outputs": [
        {
          "output_type": "stream",
          "name": "stdout",
          "text": [
            "/content/simplicial_neural_networks/data/s2_3_collaboration_complex\n"
          ]
        }
      ]
    },
    {
      "cell_type": "code",
      "source": [
        "#calculating accuracy for the 0-laplacian\n",
        "%cd /content/simplicial_neural_networks/experiments/output\n",
        "\n",
        "import os\n",
        "import numpy as np\n",
        "from sklearn.metrics import accuracy_score\n",
        "\n",
        "folder_path = '/content/simplicial_neural_networks/experiments/output'\n",
        "\n",
        "files = os.listdir(folder_path)\n",
        "files.sort()\n",
        "\n",
        "prediction = []\n",
        "actual = []\n",
        "\n",
        "counter=0\n",
        "counter2=0\n",
        "for filename in os.listdir('.'):\n",
        "  if filename.startswith('prediction') and filename.endswith('0.txt'):\n",
        "    with open(filename, 'r') as f:\n",
        "        numbers_str = f.read()\n",
        "    numbers_list = numbers_str.split()\n",
        "    numbers_int = list(map(float, numbers_list))\n",
        "    prediction += numbers_int\n",
        "    counter+=1\n",
        "  elif filename.startswith('actual') and filename.endswith('0.txt'):\n",
        "    with open(filename, 'r') as f:\n",
        "        numbers_str = f.read()\n",
        "    numbers_list = numbers_str.split()\n",
        "    numbers_int = list(map(float, numbers_list))\n",
        "    actual += numbers_int\n",
        "    counter2+=1\n",
        "prediction = [round(x, 0) for x in prediction]\n",
        "actual = [round(x, 0) for x in actual]\n",
        "\n",
        "print(counter2)\n",
        "accuracy = accuracy_score(actual, prediction)\n",
        "print(f'Accuracy: {accuracy}')"
      ],
      "metadata": {
        "colab": {
          "base_uri": "https://localhost:8080/"
        },
        "id": "E6sxTANf40H0",
        "outputId": "a42996ae-9153-41f2-b83a-75a2f12bdb46"
      },
      "execution_count": null,
      "outputs": [
        {
          "output_type": "stream",
          "name": "stdout",
          "text": [
            "/content/simplicial_neural_networks/experiments/output\n",
            "1000\n",
            "Accuracy: 0.6437439024390244\n"
          ]
        }
      ]
    },
    {
      "cell_type": "code",
      "source": [
        "#calculating accuracy for the 1-laplacian\n",
        "\n",
        "import os\n",
        "import numpy as np\n",
        "from sklearn.metrics import accuracy_score\n",
        "\n",
        "folder_path = '/content/simplicial_neural_networks/experiments/output'\n",
        "\n",
        "files = os.listdir(folder_path)\n",
        "files.sort()\n",
        "\n",
        "prediction = []\n",
        "actual = []\n",
        "\n",
        "counter=0\n",
        "\n",
        "for filename in os.listdir('.'):\n",
        "    if filename.startswith('prediction') and filename.endswith('1.txt'):\n",
        "        with open(filename, 'r') as f:\n",
        "            numbers_str = f.read()\n",
        "        numbers_list = numbers_str.split()\n",
        "        numbers_int = list(map(float, numbers_list))\n",
        "        prediction += numbers_int\n",
        "        counter+=1\n",
        "    elif filename.startswith('actual') and filename.endswith('1.txt'):\n",
        "        with open(filename, 'r') as f:\n",
        "            numbers_str = f.read()\n",
        "        numbers_list = numbers_str.split()\n",
        "        numbers_int = list(map(float, numbers_list))\n",
        "        actual += numbers_int\n",
        "prediction = [round(x, 0) for x in prediction]\n",
        "actual = [round(x, 0) for x in actual]\n",
        "\n",
        "print(counter)\n",
        "accuracy = accuracy_score(actual, prediction)\n",
        "print(f'Accuracy: {accuracy}')"
      ],
      "metadata": {
        "colab": {
          "base_uri": "https://localhost:8080/"
        },
        "id": "0rQW3ymG6jUo",
        "outputId": "eec7dd31-f12b-47e7-8d5b-05094f33a58d"
      },
      "execution_count": null,
      "outputs": [
        {
          "output_type": "stream",
          "name": "stdout",
          "text": [
            "1000\n",
            "Accuracy: 0.652627546071775\n"
          ]
        }
      ]
    },
    {
      "cell_type": "code",
      "source": [
        "#calculating accuracy for the 2-laplacian\n",
        "\n",
        "import os\n",
        "import numpy as np\n",
        "from sklearn.metrics import accuracy_score\n",
        "\n",
        "folder_path = '/content/simplicial_neural_networks/experiments/output'\n",
        "\n",
        "files = os.listdir(folder_path)\n",
        "files.sort()\n",
        "\n",
        "prediction = []\n",
        "actual = []\n",
        "\n",
        "counter=0\n",
        "\n",
        "for filename in os.listdir('.'):\n",
        "    if filename.startswith('prediction') and filename.endswith('2.txt'):\n",
        "        with open(filename, 'r') as f:\n",
        "            numbers_str = f.read()\n",
        "        numbers_list = numbers_str.split()\n",
        "        numbers_int = list(map(float, numbers_list))\n",
        "        prediction += numbers_int\n",
        "        counter+=1\n",
        "    elif filename.startswith('actual') and filename.endswith('2.txt'):\n",
        "        with open(filename, 'r') as f:\n",
        "            numbers_str = f.read()\n",
        "        numbers_list = numbers_str.split()\n",
        "        numbers_int = list(map(float, numbers_list))\n",
        "        actual += numbers_int\n",
        "prediction = [round(x, 0) for x in prediction]\n",
        "actual = [round(x, 0) for x in actual]\n",
        "\n",
        "print(counter)\n",
        "accuracy = accuracy_score(actual, prediction)\n",
        "print(f'Accuracy: {accuracy}')"
      ],
      "metadata": {
        "colab": {
          "base_uri": "https://localhost:8080/"
        },
        "id": "R7BQLmNb6m93",
        "outputId": "5352e1f1-58d7-4271-d82f-ce5c555e373b"
      },
      "execution_count": null,
      "outputs": [
        {
          "output_type": "stream",
          "name": "stdout",
          "text": [
            "1000\n",
            "Accuracy: 0.6756163549369291\n"
          ]
        }
      ]
    }
  ]
}