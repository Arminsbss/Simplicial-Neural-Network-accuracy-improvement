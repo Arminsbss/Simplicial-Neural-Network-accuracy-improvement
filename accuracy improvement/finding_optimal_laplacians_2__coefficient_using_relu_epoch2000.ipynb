{
  "nbformat": 4,
  "nbformat_minor": 0,
  "metadata": {
    "colab": {
      "provenance": [],
      "name": "finding_optimal_laplacians-2-_coefficient_using_relu_epoch2000.ipynb",
      "authorship_tag": "ABX9TyN4gNGfCpNR3yQdnjzmHiFR",
      "include_colab_link": true
    },
    "kernelspec": {
      "name": "python3",
      "display_name": "Python 3"
    },
    "language_info": {
      "name": "python"
    },
    "accelerator": "TPU"
  },
  "cells": [
    {
      "cell_type": "markdown",
      "metadata": {
        "id": "view-in-github",
        "colab_type": "text"
      },
      "source": [
        "<a href=\"https://colab.research.google.com/github/Arminsbss/Simplicial-Neural-Network/blob/Arminsbss-learning-rate-and-epochs/accuracy%20improvement/finding_optimal_laplacians_2__coefficient_using_relu_epoch2000.ipynb\" target=\"_parent\"><img src=\"https://colab.research.google.com/assets/colab-badge.svg\" alt=\"Open In Colab\"/></a>"
      ]
    },
    {
      "cell_type": "code",
      "execution_count": null,
      "metadata": {
        "colab": {
          "base_uri": "https://localhost:8080/"
        },
        "id": "QGnOA_G72-Wm",
        "outputId": "1af48905-3316-47e1-8fa2-bfda8b948400"
      },
      "outputs": [
        {
          "output_type": "stream",
          "name": "stdout",
          "text": [
            "Cloning into 'simplicial_neural_networks'...\n",
            "remote: Enumerating objects: 339, done.\u001b[K\n",
            "remote: Counting objects: 100% (59/59), done.\u001b[K\n",
            "remote: Compressing objects: 100% (11/11), done.\u001b[K\n",
            "remote: Total 339 (delta 50), reused 48 (delta 48), pack-reused 280\u001b[K\n",
            "Receiving objects: 100% (339/339), 2.42 MiB | 11.58 MiB/s, done.\n",
            "Resolving deltas: 100% (189/189), done.\n"
          ]
        }
      ],
      "source": [
        "!git clone https://github.com/stefaniaebli/simplicial_neural_networks.git"
      ]
    },
    {
      "cell_type": "code",
      "source": [
        "import random\n",
        "import os\n",
        "import numpy as np\n",
        "from sklearn.metrics import accuracy_score\n",
        "import math\n",
        "\n",
        "Iteration=1\n",
        "random_numbers=[]\n",
        "accuracies_for_0_laplacian=[]\n",
        "accuracies_for_1_laplacian=[]\n",
        "accuracies_for_2_laplacian=[]\n",
        "\n",
        "while Iteration<=1:\n",
        "  %cd /content/simplicial_neural_networks/data/s2_3_collaboration_complex\n",
        "  laplacians = np.load('150250_laplacians.npy',allow_pickle=True)\n",
        "\n",
        "  random_number = random.random()\n",
        "  random_numbers.append(random_number)\n",
        "  line_length = 10  # Adjust this value based on how many elements we want in each line\n",
        "  counter = 0\n",
        "  for i in range(4697):\n",
        "    if laplacians[2].data[i]<0:\n",
        "      print(i,'. ',laplacians[2].data[i],end='->')\n",
        "      laplacians[2].data[i] = 0\n",
        "      print(laplacians[2].data[i],end=', ')\n",
        "      counter+=1\n",
        "      if counter == line_length:\n",
        "        print()  # Print a new line\n",
        "        counter = 0  # Reset the counter\n",
        "  # for i in range(3285):\n",
        "  #   laplacians[2].data[(laplacians[2].row==i) & (laplacians[2].col==i)]+=1\n",
        "\n",
        "  %cd /content/simplicial_neural_networks/data/s2_3_collaboration_complex\n",
        "  np.save('150250_laplacians.npy', laplacians)\n",
        "\n",
        "  %cd /content/simplicial_neural_networks\n",
        "  !python ./experiments/impute_citations.py ./data/s2_3_collaboration_complex ./experiments/output 150250 30\n",
        "\n",
        "  #calculating accuracy for the 0-laplacian\n",
        "  %cd /content/simplicial_neural_networks/experiments/output\n",
        "\n",
        "  folder_path = '/content/simplicial_neural_networks/experiments/output'\n",
        "\n",
        "  files = os.listdir(folder_path)\n",
        "  files.sort()\n",
        "\n",
        "  prediction = []\n",
        "  actual = []\n",
        "\n",
        "  for filename in os.listdir('.'):\n",
        "    if filename.startswith('prediction') and filename.endswith('0.txt'):\n",
        "      with open(filename, 'r') as f:\n",
        "          numbers_str = f.read()\n",
        "      numbers_list = numbers_str.split()\n",
        "      numbers_int = list(map(float, numbers_list))\n",
        "      prediction += numbers_int\n",
        "    elif filename.startswith('actual') and filename.endswith('0.txt'):\n",
        "      with open(filename, 'r') as f:\n",
        "          numbers_str = f.read()\n",
        "      numbers_list = numbers_str.split()\n",
        "      numbers_int = list(map(float, numbers_list))\n",
        "      actual += numbers_int\n",
        "  prediction = [round(x, 0) for x in prediction]\n",
        "  actual = [round(x, 0) for x in actual]\n",
        "\n",
        "  accuracy = accuracy_score(actual, prediction)\n",
        "  accuracies_for_0_laplacian.append(accuracy)\n",
        "  print(\"We set this random number: \",random_number)\n",
        "  print(f'Accuracy for 0-laplacian: {accuracy}')\n",
        "\n",
        "  #calculating accuracy for the 1-laplacian\n",
        "  prediction = []\n",
        "  actual = []\n",
        "\n",
        "  for filename in os.listdir('.'):\n",
        "      if filename.startswith('prediction') and filename.endswith('1.txt'):\n",
        "          with open(filename, 'r') as f:\n",
        "              numbers_str = f.read()\n",
        "          numbers_list = numbers_str.split()\n",
        "          numbers_int = list(map(float, numbers_list))\n",
        "          prediction += numbers_int\n",
        "      elif filename.startswith('actual') and filename.endswith('1.txt'):\n",
        "          with open(filename, 'r') as f:\n",
        "              numbers_str = f.read()\n",
        "          numbers_list = numbers_str.split()\n",
        "          numbers_int = list(map(float, numbers_list))\n",
        "          actual += numbers_int\n",
        "  prediction = [round(x, 0) for x in prediction]\n",
        "  actual = [round(x, 0) for x in actual]\n",
        "\n",
        "  accuracy = accuracy_score(actual, prediction)\n",
        "  accuracies_for_1_laplacian.append(accuracy)\n",
        "  print(f'Accuracy for 1-laplacian: {accuracy}')\n",
        "\n",
        "  #calculating accuracy for the 2-laplacian\n",
        "  prediction = []\n",
        "  actual = []\n",
        "\n",
        "  for filename in os.listdir('.'):\n",
        "      if filename.startswith('prediction') and filename.endswith('2.txt'):\n",
        "          with open(filename, 'r') as f:\n",
        "              numbers_str = f.read()\n",
        "          numbers_list = numbers_str.split()\n",
        "          numbers_int = list(map(float, numbers_list))\n",
        "          prediction += numbers_int\n",
        "      elif filename.startswith('actual') and filename.endswith('2.txt'):\n",
        "          with open(filename, 'r') as f:\n",
        "              numbers_str = f.read()\n",
        "          numbers_list = numbers_str.split()\n",
        "          numbers_int = list(map(float, numbers_list))\n",
        "          actual += numbers_int\n",
        "  prediction = [round(x, 0) for x in prediction]\n",
        "  actual = [round(x, 0) for x in actual]\n",
        "\n",
        "  accuracy = accuracy_score(actual, prediction)\n",
        "  accuracies_for_2_laplacian.append(accuracy)\n",
        "  print(f'Accuracy for 2-laplacian: {accuracy}')\n",
        "\n",
        "  max_accuracy0 = max(accuracies_for_0_laplacian)\n",
        "  max_index0 = accuracies_for_0_laplacian.index(max_accuracy0)\n",
        "  print(f\"The maximum accuracy for 0 laplacian is: {max_accuracy0} and its index is: {max_index0} with coefficient {random_numbers[max_index0]}\")\n",
        "\n",
        "  max_accuracy1 = max(accuracies_for_1_laplacian)\n",
        "  max_index1 = accuracies_for_1_laplacian.index(max_accuracy1)\n",
        "  print(f\"The maximum accuracy for 1 laplacian is: {max_accuracy1} and its index is: {max_index1} with coefficient {random_numbers[max_index1]}\")\n",
        "\n",
        "  max_accuracy2 = max(accuracies_for_2_laplacian)\n",
        "  max_index2 = accuracies_for_2_laplacian.index(max_accuracy2)\n",
        "  print(f\"The maximum accuracy for 2 laplacian is: {max_accuracy2} and its index is: {max_index2} with coefficient {random_numbers[max_index2]}\")\n",
        "\n",
        "  Iteration+=1"
      ],
      "metadata": {
        "colab": {
          "base_uri": "https://localhost:8080/"
        },
        "id": "ffVIBHwdMFX9",
        "outputId": "16d61581-da73-4969-d5d3-529ea8afcceb"
      },
      "execution_count": null,
      "outputs": [
        {
          "output_type": "stream",
          "name": "stdout",
          "text": [
            "/content/simplicial_neural_networks/data/s2_3_collaboration_complex\n",
            "75 .  -1.0->0.0, 76 .  -1.0->0.0, 81 .  -1.0->0.0, 82 .  -1.0->0.0, 132 .  -1.0->0.0, 300 .  -1.0->0.0, 301 .  -1.0->0.0, 302 .  -1.0->0.0, 303 .  -1.0->0.0, 304 .  -1.0->0.0, \n",
            "309 .  -1.0->0.0, 310 .  -1.0->0.0, 311 .  -1.0->0.0, 312 .  -1.0->0.0, 313 .  -1.0->0.0, 314 .  -1.0->0.0, 320 .  -1.0->0.0, 321 .  -1.0->0.0, 322 .  -1.0->0.0, 323 .  -1.0->0.0, \n",
            "324 .  -1.0->0.0, 328 .  -1.0->0.0, 329 .  -1.0->0.0, 330 .  -1.0->0.0, 452 .  -1.0->0.0, 467 .  -1.0->0.0, 468 .  -1.0->0.0, 473 .  -1.0->0.0, 474 .  -1.0->0.0, 667 .  -1.0->0.0, \n",
            "673 .  -1.0->0.0, 909 .  -1.0->0.0, 910 .  -1.0->0.0, 911 .  -1.0->0.0, 912 .  -1.0->0.0, 973 .  -1.0->0.0, 974 .  -1.0->0.0, 975 .  -1.0->0.0, 976 .  -1.0->0.0, 977 .  -1.0->0.0, \n",
            "981 .  -1.0->0.0, 982 .  -1.0->0.0, 983 .  -1.0->0.0, 1112 .  -1.0->0.0, 1113 .  -1.0->0.0, 1114 .  -1.0->0.0, 1115 .  -1.0->0.0, 1184 .  -1.0->0.0, 1190 .  -1.0->0.0, 1396 .  -1.0->0.0, \n",
            "1397 .  -1.0->0.0, 1398 .  -1.0->0.0, 1399 .  -1.0->0.0, 1400 .  -1.0->0.0, 1404 .  -1.0->0.0, 1405 .  -1.0->0.0, 1406 .  -1.0->0.0, 1435 .  -1.0->0.0, 1441 .  -1.0->0.0, 1526 .  -1.0->0.0, \n",
            "1768 .  -1.0->0.0, 1778 .  -1.0->0.0, 1779 .  -1.0->0.0, 1780 .  -1.0->0.0, 1781 .  -1.0->0.0, 1782 .  -1.0->0.0, 1783 .  -1.0->0.0, 1784 .  -1.0->0.0, 1785 .  -1.0->0.0, 1786 .  -1.0->0.0, \n",
            "1787 .  -1.0->0.0, 1788 .  -1.0->0.0, 1809 .  -1.0->0.0, 1810 .  -1.0->0.0, 1811 .  -1.0->0.0, 1812 .  -1.0->0.0, 1813 .  -1.0->0.0, 1862 .  -1.0->0.0, 1863 .  -1.0->0.0, 1870 .  -1.0->0.0, \n",
            "1874 .  -1.0->0.0, 1875 .  -1.0->0.0, 1882 .  -1.0->0.0, 1885 .  -1.0->0.0, 1886 .  -1.0->0.0, 1893 .  -1.0->0.0, 1895 .  -1.0->0.0, 1896 .  -1.0->0.0, 1903 .  -1.0->0.0, 1917 .  -1.0->0.0, \n",
            "1918 .  -1.0->0.0, 1919 .  -1.0->0.0, 1920 .  -1.0->0.0, 1927 .  -1.0->0.0, 1930 .  -1.0->0.0, 1933 .  -1.0->0.0, 1936 .  -1.0->0.0, 1941 .  -1.0->0.0, 1944 .  -1.0->0.0, 1947 .  -1.0->0.0, \n",
            "1950 .  -1.0->0.0, 1953 .  -1.0->0.0, 1954 .  -1.0->0.0, 1960 .  -1.0->0.0, 1962 .  -1.0->0.0, 1963 .  -1.0->0.0, 1974 .  -1.0->0.0, 1977 .  -1.0->0.0, 1980 .  -1.0->0.0, 1983 .  -1.0->0.0, \n",
            "1986 .  -1.0->0.0, 1989 .  -1.0->0.0, 1992 .  -1.0->0.0, 1995 .  -1.0->0.0, 1997 .  -1.0->0.0, 2000 .  -1.0->0.0, 2003 .  -1.0->0.0, 2006 .  -1.0->0.0, 2008 .  -1.0->0.0, 2009 .  -1.0->0.0, \n",
            "2015 .  -1.0->0.0, 2017 .  -1.0->0.0, 2018 .  -1.0->0.0, 2027 .  -1.0->0.0, 2028 .  -1.0->0.0, 2034 .  -1.0->0.0, 2035 .  -1.0->0.0, 2036 .  -1.0->0.0, 2037 .  -1.0->0.0, 2038 .  -1.0->0.0, \n",
            "2042 .  -1.0->0.0, 2045 .  -1.0->0.0, 2048 .  -1.0->0.0, 2049 .  -1.0->0.0, 2050 .  -1.0->0.0, 2051 .  -1.0->0.0, 2052 .  -1.0->0.0, 2053 .  -1.0->0.0, 2084 .  -1.0->0.0, 2087 .  -1.0->0.0, \n",
            "2088 .  -1.0->0.0, 2089 .  -1.0->0.0, 2090 .  -1.0->0.0, 2091 .  -1.0->0.0, 2092 .  -1.0->0.0, 2093 .  -1.0->0.0, 2098 .  -1.0->0.0, 2099 .  -1.0->0.0, 2100 .  -1.0->0.0, 2101 .  -1.0->0.0, \n",
            "2102 .  -1.0->0.0, 2104 .  -1.0->0.0, 2119 .  -1.0->0.0, 2120 .  -1.0->0.0, 2121 .  -1.0->0.0, 2122 .  -1.0->0.0, 2126 .  -1.0->0.0, 2127 .  -1.0->0.0, 2128 .  -1.0->0.0, 2129 .  -1.0->0.0, \n",
            "2130 .  -1.0->0.0, 2146 .  -1.0->0.0, 2147 .  -1.0->0.0, 2148 .  -1.0->0.0, 2149 .  -1.0->0.0, 2152 .  -1.0->0.0, 2153 .  -1.0->0.0, 2157 .  -1.0->0.0, 2164 .  -1.0->0.0, 2176 .  -1.0->0.0, \n",
            "2185 .  -1.0->0.0, 2186 .  -1.0->0.0, 2187 .  -1.0->0.0, 2189 .  -1.0->0.0, 2190 .  -1.0->0.0, 2191 .  -1.0->0.0, 2196 .  -1.0->0.0, 2197 .  -1.0->0.0, 2198 .  -1.0->0.0, 2200 .  -1.0->0.0, \n",
            "2201 .  -1.0->0.0, 2202 .  -1.0->0.0, 2206 .  -1.0->0.0, 2207 .  -1.0->0.0, 2208 .  -1.0->0.0, 2210 .  -1.0->0.0, 2211 .  -1.0->0.0, 2212 .  -1.0->0.0, 2215 .  -1.0->0.0, 2216 .  -1.0->0.0, \n",
            "2217 .  -1.0->0.0, 2218 .  -1.0->0.0, 2219 .  -1.0->0.0, 2235 .  -1.0->0.0, 2236 .  -1.0->0.0, 2237 .  -1.0->0.0, 2238 .  -1.0->0.0, 2240 .  -1.0->0.0, 2241 .  -1.0->0.0, 2242 .  -1.0->0.0, \n",
            "2249 .  -1.0->0.0, 2250 .  -1.0->0.0, 2251 .  -1.0->0.0, 2252 .  -1.0->0.0, 2253 .  -1.0->0.0, 2254 .  -1.0->0.0, 2256 .  -1.0->0.0, 2257 .  -1.0->0.0, 2258 .  -1.0->0.0, 2265 .  -1.0->0.0, \n",
            "2266 .  -1.0->0.0, 2267 .  -1.0->0.0, 2274 .  -1.0->0.0, 2275 .  -1.0->0.0, 2276 .  -1.0->0.0, 2277 .  -1.0->0.0, 2278 .  -1.0->0.0, 2279 .  -1.0->0.0, 2280 .  -1.0->0.0, 2288 .  -1.0->0.0, \n",
            "2289 .  -1.0->0.0, 2301 .  -1.0->0.0, 2302 .  -1.0->0.0, 2303 .  -1.0->0.0, 2304 .  -1.0->0.0, 2305 .  -1.0->0.0, 2306 .  -1.0->0.0, 2313 .  -1.0->0.0, 2321 .  -1.0->0.0, 2322 .  -1.0->0.0, \n",
            "2323 .  -1.0->0.0, 2335 .  -1.0->0.0, 2336 .  -1.0->0.0, 2337 .  -1.0->0.0, 2338 .  -1.0->0.0, 2339 .  -1.0->0.0, 2348 .  -1.0->0.0, 2354 .  -1.0->0.0, 2358 .  -1.0->0.0, 2362 .  -1.0->0.0, \n",
            "2371 .  -1.0->0.0, 2380 .  -1.0->0.0, 2381 .  -1.0->0.0, 2385 .  -1.0->0.0, 2389 .  -1.0->0.0, 2395 .  -1.0->0.0, 2411 .  -1.0->0.0, 2412 .  -1.0->0.0, 2413 .  -1.0->0.0, 2415 .  -1.0->0.0, \n",
            "2416 .  -1.0->0.0, 2417 .  -1.0->0.0, 2424 .  -1.0->0.0, 2425 .  -1.0->0.0, 2426 .  -1.0->0.0, 2428 .  -1.0->0.0, 2429 .  -1.0->0.0, 2430 .  -1.0->0.0, 2433 .  -1.0->0.0, 2434 .  -1.0->0.0, \n",
            "2435 .  -1.0->0.0, 2436 .  -1.0->0.0, 2437 .  -1.0->0.0, 2438 .  -1.0->0.0, 2441 .  -1.0->0.0, 2454 .  -1.0->0.0, 2455 .  -1.0->0.0, 2456 .  -1.0->0.0, 2457 .  -1.0->0.0, 2459 .  -1.0->0.0, \n",
            "2460 .  -1.0->0.0, 2461 .  -1.0->0.0, 2463 .  -1.0->0.0, 2464 .  -1.0->0.0, 2465 .  -1.0->0.0, 2467 .  -1.0->0.0, 2483 .  -1.0->0.0, 2484 .  -1.0->0.0, 2485 .  -1.0->0.0, 2487 .  -1.0->0.0, \n",
            "2488 .  -1.0->0.0, 2489 .  -1.0->0.0, 2495 .  -1.0->0.0, 2496 .  -1.0->0.0, 2510 .  -1.0->0.0, 2511 .  -1.0->0.0, 2512 .  -1.0->0.0, 2513 .  -1.0->0.0, 2514 .  -1.0->0.0, 2518 .  -1.0->0.0, \n",
            "2519 .  -1.0->0.0, 2520 .  -1.0->0.0, 2521 .  -1.0->0.0, 2522 .  -1.0->0.0, 2526 .  -1.0->0.0, 2527 .  -1.0->0.0, 2528 .  -1.0->0.0, 2529 .  -1.0->0.0, 2530 .  -1.0->0.0, 2535 .  -1.0->0.0, \n",
            "2536 .  -1.0->0.0, 2541 .  -1.0->0.0, 2542 .  -1.0->0.0, 2545 .  -1.0->0.0, 2546 .  -1.0->0.0, 2549 .  -1.0->0.0, 2558 .  -1.0->0.0, 2567 .  -1.0->0.0, 2568 .  -1.0->0.0, 2569 .  -1.0->0.0, \n",
            "2572 .  -1.0->0.0, 2573 .  -1.0->0.0, 2576 .  -1.0->0.0, 2577 .  -1.0->0.0, 2599 .  -1.0->0.0, 2600 .  -1.0->0.0, 2601 .  -1.0->0.0, 2602 .  -1.0->0.0, 2603 .  -1.0->0.0, 2604 .  -1.0->0.0, \n",
            "2606 .  -1.0->0.0, 2607 .  -1.0->0.0, 2610 .  -1.0->0.0, 2620 .  -1.0->0.0, 2621 .  -1.0->0.0, 2622 .  -1.0->0.0, 2624 .  -1.0->0.0, 2625 .  -1.0->0.0, 2627 .  -1.0->0.0, 2628 .  -1.0->0.0, \n",
            "2643 .  -1.0->0.0, 2644 .  -1.0->0.0, 2645 .  -1.0->0.0, 2646 .  -1.0->0.0, 2659 .  -1.0->0.0, 2660 .  -1.0->0.0, 2661 .  -1.0->0.0, 2662 .  -1.0->0.0, 2665 .  -1.0->0.0, 2677 .  -1.0->0.0, \n",
            "2682 .  -1.0->0.0, 2694 .  -1.0->0.0, 2703 .  -1.0->0.0, 2716 .  -1.0->0.0, 2717 .  -1.0->0.0, 2718 .  -1.0->0.0, 2719 .  -1.0->0.0, 2721 .  -1.0->0.0, 2722 .  -1.0->0.0, 2723 .  -1.0->0.0, \n",
            "2724 .  -1.0->0.0, 2725 .  -1.0->0.0, 2726 .  -1.0->0.0, 2727 .  -1.0->0.0, 2728 .  -1.0->0.0, 2729 .  -1.0->0.0, 2730 .  -1.0->0.0, 2731 .  -1.0->0.0, 2732 .  -1.0->0.0, 2733 .  -1.0->0.0, \n",
            "2734 .  -1.0->0.0, 2735 .  -1.0->0.0, 2740 .  -1.0->0.0, 2741 .  -1.0->0.0, 2742 .  -1.0->0.0, 2748 .  -1.0->0.0, 2749 .  -1.0->0.0, 2750 .  -1.0->0.0, 2751 .  -1.0->0.0, 2752 .  -1.0->0.0, \n",
            "2753 .  -1.0->0.0, 2754 .  -1.0->0.0, 2755 .  -1.0->0.0, 2756 .  -1.0->0.0, 2757 .  -1.0->0.0, 2758 .  -1.0->0.0, 2762 .  -1.0->0.0, 2763 .  -1.0->0.0, 2764 .  -1.0->0.0, 2765 .  -1.0->0.0, \n",
            "2766 .  -1.0->0.0, 2767 .  -1.0->0.0, 2768 .  -1.0->0.0, 2769 .  -1.0->0.0, 2770 .  -1.0->0.0, 2771 .  -1.0->0.0, 2772 .  -1.0->0.0, 2776 .  -1.0->0.0, 2777 .  -1.0->0.0, 2778 .  -1.0->0.0, \n",
            "2779 .  -1.0->0.0, 2780 .  -1.0->0.0, 2781 .  -1.0->0.0, 2782 .  -1.0->0.0, 2783 .  -1.0->0.0, 2784 .  -1.0->0.0, 2785 .  -1.0->0.0, 2786 .  -1.0->0.0, 2943 .  -1.0->0.0, 2944 .  -1.0->0.0, \n",
            "2945 .  -1.0->0.0, 2946 .  -1.0->0.0, 2947 .  -1.0->0.0, 2948 .  -1.0->0.0, 2949 .  -1.0->0.0, 2954 .  -1.0->0.0, 2955 .  -1.0->0.0, 3001 .  -1.0->0.0, 3002 .  -1.0->0.0, 3003 .  -1.0->0.0, \n",
            "3004 .  -1.0->0.0, 3005 .  -1.0->0.0, 3014 .  -1.0->0.0, 3021 .  -1.0->0.0, 3022 .  -1.0->0.0, 3032 .  -1.0->0.0, 3245 .  -1.0->0.0, 3246 .  -1.0->0.0, 3247 .  -1.0->0.0, 3248 .  -1.0->0.0, \n",
            "3249 .  -1.0->0.0, 3358 .  -1.0->0.0, 3359 .  -1.0->0.0, 3360 .  -1.0->0.0, 3361 .  -1.0->0.0, 3367 .  -1.0->0.0, 3368 .  -1.0->0.0, 3369 .  -1.0->0.0, 3376 .  -1.0->0.0, 3377 .  -1.0->0.0, \n",
            "3378 .  -1.0->0.0, 3379 .  -1.0->0.0, 3386 .  -1.0->0.0, 3387 .  -1.0->0.0, 3388 .  -1.0->0.0, 3389 .  -1.0->0.0, 3395 .  -1.0->0.0, 3396 .  -1.0->0.0, 3397 .  -1.0->0.0, 3404 .  -1.0->0.0, \n",
            "3411 .  -1.0->0.0, 3412 .  -1.0->0.0, 3413 .  -1.0->0.0, 3424 .  -1.0->0.0, 3425 .  -1.0->0.0, 3431 .  -1.0->0.0, 3438 .  -1.0->0.0, 3445 .  -1.0->0.0, 3446 .  -1.0->0.0, 3447 .  -1.0->0.0, \n",
            "3448 .  -1.0->0.0, 3610 .  -1.0->0.0, 3611 .  -1.0->0.0, 3612 .  -1.0->0.0, 3613 .  -1.0->0.0, 3614 .  -1.0->0.0, 3615 .  -1.0->0.0, 3616 .  -1.0->0.0, 3619 .  -1.0->0.0, 3623 .  -1.0->0.0, \n",
            "3624 .  -1.0->0.0, 3625 .  -1.0->0.0, 3627 .  -1.0->0.0, 3631 .  -1.0->0.0, 3635 .  -1.0->0.0, 3648 .  -1.0->0.0, 3652 .  -1.0->0.0, 3656 .  -1.0->0.0, 3662 .  -1.0->0.0, 3672 .  -1.0->0.0, \n",
            "3679 .  -1.0->0.0, 3686 .  -1.0->0.0, 3690 .  -1.0->0.0, 3691 .  -1.0->0.0, 3692 .  -1.0->0.0, 3694 .  -1.0->0.0, 3695 .  -1.0->0.0, 3698 .  -1.0->0.0, 3699 .  -1.0->0.0, 3702 .  -1.0->0.0, \n",
            "3703 .  -1.0->0.0, 3725 .  -1.0->0.0, 3726 .  -1.0->0.0, 3727 .  -1.0->0.0, 3882 .  -1.0->0.0, 3888 .  -1.0->0.0, 3907 .  -1.0->0.0, 3908 .  -1.0->0.0, 3917 .  -1.0->0.0, 3918 .  -1.0->0.0, \n",
            "3924 .  -1.0->0.0, 3925 .  -1.0->0.0, 3931 .  -1.0->0.0, 3935 .  -1.0->0.0, 3936 .  -1.0->0.0, 3937 .  -1.0->0.0, 3940 .  -1.0->0.0, 3944 .  -1.0->0.0, 3948 .  -1.0->0.0, 4102 .  -1.0->0.0, \n",
            "4108 .  -1.0->0.0, 4194 .  -1.0->0.0, 4195 .  -1.0->0.0, 4200 .  -1.0->0.0, 4201 .  -1.0->0.0, 4296 .  -1.0->0.0, 4465 .  -1.0->0.0, 4466 .  -1.0->0.0, 4467 .  -1.0->0.0, 4468 .  -1.0->0.0, \n",
            "4469 .  -1.0->0.0, 4470 .  -1.0->0.0, 4490 .  -1.0->0.0, 4536 .  -1.0->0.0, 4537 .  -1.0->0.0, 4538 .  -1.0->0.0, 4539 .  -1.0->0.0, 4540 .  -1.0->0.0, 4541 .  -1.0->0.0, 4545 .  -1.0->0.0, \n",
            "4595 .  -1.0->0.0, 4669 .  -1.0->0.0, 4670 .  -1.0->0.0, 4671 .  -1.0->0.0, 4672 .  -1.0->0.0, 4680 .  -1.0->0.0, /content/simplicial_neural_networks/data/s2_3_collaboration_complex\n",
            "/content/simplicial_neural_networks\n",
            "Parameter counts:\n",
            "150\n",
            "30\n",
            "4500\n",
            "30\n",
            "150\n",
            "1\n",
            "150\n",
            "30\n",
            "4500\n",
            "30\n",
            "150\n",
            "1\n",
            "150\n",
            "30\n",
            "4500\n",
            "30\n",
            "150\n",
            "1\n",
            "Total number of parameters: 14583\n",
            "[0.6988636363636364, 0.6994572591587517, 0.6998477929984779]\n",
            "/content/simplicial_neural_networks/experiments/output\n",
            "We set this random number:  0.14750373145565\n",
            "Accuracy for 0-laplacian: 0.6680589430894309\n",
            "Accuracy for 1-laplacian: 0.6876905916585839\n",
            "Accuracy for 2-laplacian: 0.6935782949108308\n",
            "The maximum accuracy for 0 laplacian is: 0.6680589430894309 and its index is: 0 with coefficient 0.14750373145565\n",
            "The maximum accuracy for 1 laplacian is: 0.6876905916585839 and its index is: 0 with coefficient 0.14750373145565\n",
            "The maximum accuracy for 2 laplacian is: 0.6935782949108308 and its index is: 0 with coefficient 0.14750373145565\n"
          ]
        }
      ]
    },
    {
      "cell_type": "code",
      "source": [
        "# 0-laplacian accuracies\n",
        "for i in range(len(accuracies_for_0_laplacian)):\n",
        "  print(\"0-laplacian accuracy: \",accuracies_for_0_laplacian[i],\"for random number: \",random_numbers[i])"
      ],
      "metadata": {
        "colab": {
          "base_uri": "https://localhost:8080/"
        },
        "id": "syWnD1_LDwbB",
        "outputId": "ab969d24-604f-46d0-9aa2-59edff25d85f"
      },
      "execution_count": null,
      "outputs": [
        {
          "output_type": "stream",
          "name": "stdout",
          "text": [
            "0-laplacian accuracy:  0.6680589430894309 for random number:  0.14750373145565\n"
          ]
        }
      ]
    },
    {
      "cell_type": "code",
      "source": [
        "# 1-laplacian accuracies\n",
        "for i in range(len(accuracies_for_1_laplacian)):\n",
        "  print(\"1-laplacian accuracy: \",accuracies_for_1_laplacian[i],\"for random number: \",random_numbers[i])"
      ],
      "metadata": {
        "colab": {
          "base_uri": "https://localhost:8080/"
        },
        "id": "u-2nCKKuE0Kr",
        "outputId": "2dd2f602-9cbc-44eb-b835-f26e1ebf8ae3"
      },
      "execution_count": null,
      "outputs": [
        {
          "output_type": "stream",
          "name": "stdout",
          "text": [
            "1-laplacian accuracy:  0.6876905916585839 for random number:  0.14750373145565\n"
          ]
        }
      ]
    },
    {
      "cell_type": "code",
      "source": [
        "# 2-laplacian accuracies\n",
        "for i in range(len(accuracies_for_2_laplacian)):\n",
        "  print(\"2-laplacian accuracy: \",accuracies_for_2_laplacian[i],\"for random number: \",random_numbers[i])"
      ],
      "metadata": {
        "colab": {
          "base_uri": "https://localhost:8080/"
        },
        "id": "KwYQsSE_E1Fj",
        "outputId": "91b4d7df-2f05-460c-aee1-d405ceeb531c"
      },
      "execution_count": null,
      "outputs": [
        {
          "output_type": "stream",
          "name": "stdout",
          "text": [
            "2-laplacian accuracy:  0.6935782949108308 for random number:  0.14750373145565\n"
          ]
        }
      ]
    },
    {
      "cell_type": "code",
      "source": [
        "print(\"Max accuracy we got: \",max_accuracy0,max_accuracy1,max_accuracy2)"
      ],
      "metadata": {
        "colab": {
          "base_uri": "https://localhost:8080/"
        },
        "id": "N386ALRTFaDQ",
        "outputId": "da462f6e-73d0-4a52-91ba-177b6c781f36"
      },
      "execution_count": null,
      "outputs": [
        {
          "output_type": "stream",
          "name": "stdout",
          "text": [
            "Max accuracy we got:  0.6680589430894309 0.6876905916585839 0.6935782949108308\n"
          ]
        }
      ]
    }
  ]
}