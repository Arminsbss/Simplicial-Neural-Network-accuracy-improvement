{
  "cells": [
    {
      "cell_type": "markdown",
      "metadata": {
        "id": "view-in-github",
        "colab_type": "text"
      },
      "source": [
        "<a href=\"https://colab.research.google.com/github/Arminsbss/Simplicial-Neural-Network/blob/main/analysis_of_the_semantic_scholar_data_1.ipynb\" target=\"_parent\"><img src=\"https://colab.research.google.com/assets/colab-badge.svg\" alt=\"Open In Colab\"/></a>"
      ]
    },
    {
      "cell_type": "markdown",
      "metadata": {
        "id": "aIxsc5SwXBaJ"
      },
      "source": [
        "# Analysis of Semantic Scholar's paper-author relations\n",
        "(bipartite graph and collaboration complex)\n"
      ]
    },
    {
      "cell_type": "markdown",
      "metadata": {
        "id": "qY_Fs3bEXBaP"
      },
      "source": [
        "Todo:\n",
        "* describe the projected networks, e.g., degree distribution, clustering coefficient, mean path length, diameter\n",
        "* correlation between author degree and #citations or #publications\n",
        "* facet (upper) degrees: for a k-facet (i.e., a paper), number of incident k+1 simplices\n",
        "    * many authors are in few groups and very few authors are in many groups\n",
        "    * high facet degrees should correlate with high vertex degree and high publication rank => collaborate more with others, but also with more distinct sets of people\n"
      ]
    },
    {
      "cell_type": "code",
      "execution_count": null,
      "metadata": {
        "id": "4cAPX5fTXBaQ"
      },
      "outputs": [],
      "source": [
        "%matplotlib inline"
      ]
    },
    {
      "cell_type": "code",
      "source": [
        "#@title\n",
        "#run a snn on simple dataset\n",
        "\n",
        "# !git clone https://github.com/AtreusCorp/simplicial_neural_networks\n",
        "!git clone https://github.com/stefaniaebli/simplicial_neural_networks.git\n",
        "\n",
        "# %cd simplicial_neural_networks\n",
        "!pip install PyGSP\n",
        "!pip install gudhi\n",
        "!git clone https://github.com/epfl-lts2/pygsp"
      ],
      "metadata": {
        "colab": {
          "base_uri": "https://localhost:8080/"
        },
        "id": "lWvDRberZQXn",
        "outputId": "34e0add3-8099-4c37-f579-56fbf6734f09"
      },
      "execution_count": null,
      "outputs": [
        {
          "output_type": "stream",
          "name": "stdout",
          "text": [
            "Cloning into 'simplicial_neural_networks'...\n",
            "remote: Enumerating objects: 339, done.\u001b[K\n",
            "remote: Counting objects: 100% (59/59), done.\u001b[K\n",
            "remote: Compressing objects: 100% (11/11), done.\u001b[K\n",
            "remote: Total 339 (delta 50), reused 48 (delta 48), pack-reused 280\u001b[K\n",
            "Receiving objects: 100% (339/339), 2.42 MiB | 7.63 MiB/s, done.\n",
            "Resolving deltas: 100% (189/189), done.\n",
            "Collecting PyGSP\n",
            "  Downloading PyGSP-0.5.1-py2.py3-none-any.whl (1.8 MB)\n",
            "\u001b[2K     \u001b[90m━━━━━━━━━━━━━━━━━━━━━━━━━━━━━━━━━━━━━━━━\u001b[0m \u001b[32m1.8/1.8 MB\u001b[0m \u001b[31m19.4 MB/s\u001b[0m eta \u001b[36m0:00:00\u001b[0m\n",
            "\u001b[?25hRequirement already satisfied: numpy in /usr/local/lib/python3.10/dist-packages (from PyGSP) (1.22.4)\n",
            "Requirement already satisfied: scipy in /usr/local/lib/python3.10/dist-packages (from PyGSP) (1.10.1)\n",
            "Installing collected packages: PyGSP\n",
            "Successfully installed PyGSP-0.5.1\n",
            "Collecting gudhi\n",
            "  Downloading gudhi-3.8.0-cp310-cp310-manylinux_2_17_x86_64.manylinux2014_x86_64.whl (3.0 MB)\n",
            "\u001b[2K     \u001b[90m━━━━━━━━━━━━━━━━━━━━━━━━━━━━━━━━━━━━━━━━\u001b[0m \u001b[32m3.0/3.0 MB\u001b[0m \u001b[31m2.7 MB/s\u001b[0m eta \u001b[36m0:00:00\u001b[0m\n",
            "\u001b[?25hRequirement already satisfied: numpy>=1.15.0 in /usr/local/lib/python3.10/dist-packages (from gudhi) (1.22.4)\n",
            "Installing collected packages: gudhi\n",
            "Successfully installed gudhi-3.8.0\n",
            "Cloning into 'pygsp'...\n",
            "remote: Enumerating objects: 13136, done.\u001b[K\n",
            "remote: Counting objects: 100% (106/106), done.\u001b[K\n",
            "remote: Compressing objects: 100% (83/83), done.\u001b[K\n",
            "remote: Total 13136 (delta 43), reused 49 (delta 23), pack-reused 13030\u001b[K\n",
            "Receiving objects: 100% (13136/13136), 4.43 MiB | 10.88 MiB/s, done.\n",
            "Resolving deltas: 100% (10190/10190), done.\n"
          ]
        }
      ]
    },
    {
      "cell_type": "code",
      "source": [
        "from google.colab import drive\n",
        "drive.mount('/content/drive')\n",
        "%cd /content/drive/MyDrive/Colab Notebooks/SNN paper-authors"
      ],
      "metadata": {
        "colab": {
          "base_uri": "https://localhost:8080/"
        },
        "id": "ZLpm7nSDC_CD",
        "outputId": "3363455e-9d58-4486-9a14-42e44e2e4a61"
      },
      "execution_count": null,
      "outputs": [
        {
          "output_type": "stream",
          "name": "stdout",
          "text": [
            "Mounted at /content/drive\n",
            "/content/drive/MyDrive/Colab Notebooks/SNN paper-authors\n"
          ]
        }
      ]
    },
    {
      "cell_type": "code",
      "execution_count": null,
      "metadata": {
        "id": "VnSfRwVDXBaR"
      },
      "outputs": [],
      "source": [
        "import numpy as np\n",
        "from scipy import sparse\n",
        "import matplotlib as mpl\n",
        "from matplotlib import pyplot as plt\n",
        "import pandas as pd\n",
        "import networkx as nx\n",
        "from networkx.algorithms import bipartite as nxb\n",
        "from IPython import display as ipd\n",
        "\n",
        "import sys\n",
        "# sys.path.append('..')\n",
        "\n",
        "from simplicial_neural_networks.data.s2_5_bipartite_to_complex import build_features\n",
        "#from data.s2_4_complex_to_matrices import load_matrices"
      ]
    },
    {
      "cell_type": "code",
      "execution_count": null,
      "metadata": {
        "id": "-FE3JhuhXBaS"
      },
      "outputs": [],
      "source": [
        "plt.rcParams['figure.figsize'] = (17, 5)"
      ]
    },
    {
      "cell_type": "code",
      "execution_count": null,
      "metadata": {
        "id": "Rs_13kcbXBaT"
      },
      "outputs": [],
      "source": [
        "def get_link(id, entity='paper'):\n",
        "    api = 'https://api.semanticscholar.org/v1/{}/{}'\n",
        "    webpage = 'https://www.semanticscholar.org/{}/{}'\n",
        "    for base in [api, webpage]:\n",
        "        link = base.format(entity, id)\n",
        "        txt = f'<a href=\"{link}\">{link}</a>'\n",
        "        ipd.display(ipd.HTML(txt))"
      ]
    },
    {
      "cell_type": "code",
      "execution_count": null,
      "metadata": {
        "id": "BR3ALNjUXBaT"
      },
      "outputs": [],
      "source": [
        "def bins(array):\n",
        "    return np.arange(array.min(), array.max() + 2) - 0.5"
      ]
    },
    {
      "cell_type": "markdown",
      "metadata": {
        "id": "OWsWAU7RXBaU"
      },
      "source": [
        "## 1 Data loading"
      ]
    },
    {
      "cell_type": "code",
      "execution_count": null,
      "metadata": {
        "id": "Ls9_JJ5cXBaV",
        "colab": {
          "base_uri": "https://localhost:8080/"
        },
        "outputId": "8a2a45ed-c4ab-4a81-c094-250015738077"
      },
      "outputs": [
        {
          "output_type": "stream",
          "name": "stdout",
          "text": [
            "paper table: 241,412 papers, 11 features\n",
            "edges table: 1,805,826 edges\n"
          ]
        }
      ],
      "source": [
        "# url_papers = 'https://zenodo.org/record/4144319/files/papers.csv'\n",
        "# url_edges = 'https://zenodo.org/record/4144319/files/paper_author_edges.csv'\n",
        "# papers = pd.read_csv(url_papers)\n",
        "# edges =pd.read_csv(url_edges)\n",
        "\n",
        "papers = pd.read_csv('papers.csv')\n",
        "edges =pd.read_csv('paper_author_edges.csv')\n",
        "\n",
        "# papers = pd.read_csv('simplicial_neural_networks/data/s2_2_bipartite_graph/papers.csv', index_col=0)\n",
        "# edges = pd.read_csv('simplicial_neural_networks/data/s2_2_bipartite_graph/paper_author_edges.csv')\n",
        "\n",
        "print('paper table: {:,} papers, {:,} features'.format(*papers.shape))\n",
        "print('edges table: {:,} edges'.format(edges.shape[0]))"
      ]
    },
    {
      "cell_type": "code",
      "source": [
        "papers"
      ],
      "metadata": {
        "id": "hAO2fYKwjFxz",
        "colab": {
          "base_uri": "https://localhost:8080/",
          "height": 487
        },
        "outputId": "70f6a7ef-7180-4ca3-9672-9b00cffdbc18"
      },
      "execution_count": null,
      "outputs": [
        {
          "output_type": "execute_result",
          "data": {
            "text/plain": [
              "                                           paper  citations_1994  \\\n",
              "0       0001311999ed09adee3d6e0485af32ab64d13d52               0   \n",
              "1       000165f31d09147b03c4f84edb70204babeb4d8c               0   \n",
              "2       000192389586640fd0395d9471a27040bff23592               0   \n",
              "3       0001978c2b84af8833d91da5984972cb7ea8b2f7               0   \n",
              "4       0001a39e6b616d91c37c6293b49a11f2d5b53d53               0   \n",
              "...                                          ...             ...   \n",
              "241407  fffebc2bf7039fc8727c446e2841898d318b9b40               0   \n",
              "241408  ffff23e8280c23cf91acd3d7e1626dc14436e565               0   \n",
              "241409  ffff773cdb0351cb926fe2c21f625b73e3c9ff7c               0   \n",
              "241410  ffffbe0ee0b73e98bc8028d70f2e58d86956e34a               1   \n",
              "241411  ffffefec40d18c9e470643f2eb9e09831d090f05               0   \n",
              "\n",
              "        citations_1999  citations_2004  citations_2009  citations_2014  \\\n",
              "0                    0               0               0               1   \n",
              "1                    0               0               0               0   \n",
              "2                    0               0               0               0   \n",
              "3                    0               0               0               0   \n",
              "4                    0               0               0               0   \n",
              "...                ...             ...             ...             ...   \n",
              "241407               0               0               0               0   \n",
              "241408               0               0               0               0   \n",
              "241409               0               0               0               0   \n",
              "241410               1               1               1               1   \n",
              "241411               0               0               0               1   \n",
              "\n",
              "        citations_2019  references  year  missing_authors  missing_citations  \n",
              "0                    2          14  2012                0                  0  \n",
              "1                    4          28  2015                0                  0  \n",
              "2                    0          29  2017                0                  0  \n",
              "3                    0          53  2018                0                  0  \n",
              "4                    0           7  2018                0                  0  \n",
              "...                ...         ...   ...              ...                ...  \n",
              "241407               0           6  2018                0                  0  \n",
              "241408               0          11  2017                0                  0  \n",
              "241409               1           8  2012                0                  0  \n",
              "241410               1          13  1989                0                  0  \n",
              "241411               1           8  2005                0                  0  \n",
              "\n",
              "[241412 rows x 11 columns]"
            ],
            "text/html": [
              "\n",
              "  <div id=\"df-917088e3-dc55-4c48-b56b-72fc0c7d35f4\">\n",
              "    <div class=\"colab-df-container\">\n",
              "      <div>\n",
              "<style scoped>\n",
              "    .dataframe tbody tr th:only-of-type {\n",
              "        vertical-align: middle;\n",
              "    }\n",
              "\n",
              "    .dataframe tbody tr th {\n",
              "        vertical-align: top;\n",
              "    }\n",
              "\n",
              "    .dataframe thead th {\n",
              "        text-align: right;\n",
              "    }\n",
              "</style>\n",
              "<table border=\"1\" class=\"dataframe\">\n",
              "  <thead>\n",
              "    <tr style=\"text-align: right;\">\n",
              "      <th></th>\n",
              "      <th>paper</th>\n",
              "      <th>citations_1994</th>\n",
              "      <th>citations_1999</th>\n",
              "      <th>citations_2004</th>\n",
              "      <th>citations_2009</th>\n",
              "      <th>citations_2014</th>\n",
              "      <th>citations_2019</th>\n",
              "      <th>references</th>\n",
              "      <th>year</th>\n",
              "      <th>missing_authors</th>\n",
              "      <th>missing_citations</th>\n",
              "    </tr>\n",
              "  </thead>\n",
              "  <tbody>\n",
              "    <tr>\n",
              "      <th>0</th>\n",
              "      <td>0001311999ed09adee3d6e0485af32ab64d13d52</td>\n",
              "      <td>0</td>\n",
              "      <td>0</td>\n",
              "      <td>0</td>\n",
              "      <td>0</td>\n",
              "      <td>1</td>\n",
              "      <td>2</td>\n",
              "      <td>14</td>\n",
              "      <td>2012</td>\n",
              "      <td>0</td>\n",
              "      <td>0</td>\n",
              "    </tr>\n",
              "    <tr>\n",
              "      <th>1</th>\n",
              "      <td>000165f31d09147b03c4f84edb70204babeb4d8c</td>\n",
              "      <td>0</td>\n",
              "      <td>0</td>\n",
              "      <td>0</td>\n",
              "      <td>0</td>\n",
              "      <td>0</td>\n",
              "      <td>4</td>\n",
              "      <td>28</td>\n",
              "      <td>2015</td>\n",
              "      <td>0</td>\n",
              "      <td>0</td>\n",
              "    </tr>\n",
              "    <tr>\n",
              "      <th>2</th>\n",
              "      <td>000192389586640fd0395d9471a27040bff23592</td>\n",
              "      <td>0</td>\n",
              "      <td>0</td>\n",
              "      <td>0</td>\n",
              "      <td>0</td>\n",
              "      <td>0</td>\n",
              "      <td>0</td>\n",
              "      <td>29</td>\n",
              "      <td>2017</td>\n",
              "      <td>0</td>\n",
              "      <td>0</td>\n",
              "    </tr>\n",
              "    <tr>\n",
              "      <th>3</th>\n",
              "      <td>0001978c2b84af8833d91da5984972cb7ea8b2f7</td>\n",
              "      <td>0</td>\n",
              "      <td>0</td>\n",
              "      <td>0</td>\n",
              "      <td>0</td>\n",
              "      <td>0</td>\n",
              "      <td>0</td>\n",
              "      <td>53</td>\n",
              "      <td>2018</td>\n",
              "      <td>0</td>\n",
              "      <td>0</td>\n",
              "    </tr>\n",
              "    <tr>\n",
              "      <th>4</th>\n",
              "      <td>0001a39e6b616d91c37c6293b49a11f2d5b53d53</td>\n",
              "      <td>0</td>\n",
              "      <td>0</td>\n",
              "      <td>0</td>\n",
              "      <td>0</td>\n",
              "      <td>0</td>\n",
              "      <td>0</td>\n",
              "      <td>7</td>\n",
              "      <td>2018</td>\n",
              "      <td>0</td>\n",
              "      <td>0</td>\n",
              "    </tr>\n",
              "    <tr>\n",
              "      <th>...</th>\n",
              "      <td>...</td>\n",
              "      <td>...</td>\n",
              "      <td>...</td>\n",
              "      <td>...</td>\n",
              "      <td>...</td>\n",
              "      <td>...</td>\n",
              "      <td>...</td>\n",
              "      <td>...</td>\n",
              "      <td>...</td>\n",
              "      <td>...</td>\n",
              "      <td>...</td>\n",
              "    </tr>\n",
              "    <tr>\n",
              "      <th>241407</th>\n",
              "      <td>fffebc2bf7039fc8727c446e2841898d318b9b40</td>\n",
              "      <td>0</td>\n",
              "      <td>0</td>\n",
              "      <td>0</td>\n",
              "      <td>0</td>\n",
              "      <td>0</td>\n",
              "      <td>0</td>\n",
              "      <td>6</td>\n",
              "      <td>2018</td>\n",
              "      <td>0</td>\n",
              "      <td>0</td>\n",
              "    </tr>\n",
              "    <tr>\n",
              "      <th>241408</th>\n",
              "      <td>ffff23e8280c23cf91acd3d7e1626dc14436e565</td>\n",
              "      <td>0</td>\n",
              "      <td>0</td>\n",
              "      <td>0</td>\n",
              "      <td>0</td>\n",
              "      <td>0</td>\n",
              "      <td>0</td>\n",
              "      <td>11</td>\n",
              "      <td>2017</td>\n",
              "      <td>0</td>\n",
              "      <td>0</td>\n",
              "    </tr>\n",
              "    <tr>\n",
              "      <th>241409</th>\n",
              "      <td>ffff773cdb0351cb926fe2c21f625b73e3c9ff7c</td>\n",
              "      <td>0</td>\n",
              "      <td>0</td>\n",
              "      <td>0</td>\n",
              "      <td>0</td>\n",
              "      <td>0</td>\n",
              "      <td>1</td>\n",
              "      <td>8</td>\n",
              "      <td>2012</td>\n",
              "      <td>0</td>\n",
              "      <td>0</td>\n",
              "    </tr>\n",
              "    <tr>\n",
              "      <th>241410</th>\n",
              "      <td>ffffbe0ee0b73e98bc8028d70f2e58d86956e34a</td>\n",
              "      <td>1</td>\n",
              "      <td>1</td>\n",
              "      <td>1</td>\n",
              "      <td>1</td>\n",
              "      <td>1</td>\n",
              "      <td>1</td>\n",
              "      <td>13</td>\n",
              "      <td>1989</td>\n",
              "      <td>0</td>\n",
              "      <td>0</td>\n",
              "    </tr>\n",
              "    <tr>\n",
              "      <th>241411</th>\n",
              "      <td>ffffefec40d18c9e470643f2eb9e09831d090f05</td>\n",
              "      <td>0</td>\n",
              "      <td>0</td>\n",
              "      <td>0</td>\n",
              "      <td>0</td>\n",
              "      <td>1</td>\n",
              "      <td>1</td>\n",
              "      <td>8</td>\n",
              "      <td>2005</td>\n",
              "      <td>0</td>\n",
              "      <td>0</td>\n",
              "    </tr>\n",
              "  </tbody>\n",
              "</table>\n",
              "<p>241412 rows × 11 columns</p>\n",
              "</div>\n",
              "      <button class=\"colab-df-convert\" onclick=\"convertToInteractive('df-917088e3-dc55-4c48-b56b-72fc0c7d35f4')\"\n",
              "              title=\"Convert this dataframe to an interactive table.\"\n",
              "              style=\"display:none;\">\n",
              "        \n",
              "  <svg xmlns=\"http://www.w3.org/2000/svg\" height=\"24px\"viewBox=\"0 0 24 24\"\n",
              "       width=\"24px\">\n",
              "    <path d=\"M0 0h24v24H0V0z\" fill=\"none\"/>\n",
              "    <path d=\"M18.56 5.44l.94 2.06.94-2.06 2.06-.94-2.06-.94-.94-2.06-.94 2.06-2.06.94zm-11 1L8.5 8.5l.94-2.06 2.06-.94-2.06-.94L8.5 2.5l-.94 2.06-2.06.94zm10 10l.94 2.06.94-2.06 2.06-.94-2.06-.94-.94-2.06-.94 2.06-2.06.94z\"/><path d=\"M17.41 7.96l-1.37-1.37c-.4-.4-.92-.59-1.43-.59-.52 0-1.04.2-1.43.59L10.3 9.45l-7.72 7.72c-.78.78-.78 2.05 0 2.83L4 21.41c.39.39.9.59 1.41.59.51 0 1.02-.2 1.41-.59l7.78-7.78 2.81-2.81c.8-.78.8-2.07 0-2.86zM5.41 20L4 18.59l7.72-7.72 1.47 1.35L5.41 20z\"/>\n",
              "  </svg>\n",
              "      </button>\n",
              "      \n",
              "  <style>\n",
              "    .colab-df-container {\n",
              "      display:flex;\n",
              "      flex-wrap:wrap;\n",
              "      gap: 12px;\n",
              "    }\n",
              "\n",
              "    .colab-df-convert {\n",
              "      background-color: #E8F0FE;\n",
              "      border: none;\n",
              "      border-radius: 50%;\n",
              "      cursor: pointer;\n",
              "      display: none;\n",
              "      fill: #1967D2;\n",
              "      height: 32px;\n",
              "      padding: 0 0 0 0;\n",
              "      width: 32px;\n",
              "    }\n",
              "\n",
              "    .colab-df-convert:hover {\n",
              "      background-color: #E2EBFA;\n",
              "      box-shadow: 0px 1px 2px rgba(60, 64, 67, 0.3), 0px 1px 3px 1px rgba(60, 64, 67, 0.15);\n",
              "      fill: #174EA6;\n",
              "    }\n",
              "\n",
              "    [theme=dark] .colab-df-convert {\n",
              "      background-color: #3B4455;\n",
              "      fill: #D2E3FC;\n",
              "    }\n",
              "\n",
              "    [theme=dark] .colab-df-convert:hover {\n",
              "      background-color: #434B5C;\n",
              "      box-shadow: 0px 1px 3px 1px rgba(0, 0, 0, 0.15);\n",
              "      filter: drop-shadow(0px 1px 2px rgba(0, 0, 0, 0.3));\n",
              "      fill: #FFFFFF;\n",
              "    }\n",
              "  </style>\n",
              "\n",
              "      <script>\n",
              "        const buttonEl =\n",
              "          document.querySelector('#df-917088e3-dc55-4c48-b56b-72fc0c7d35f4 button.colab-df-convert');\n",
              "        buttonEl.style.display =\n",
              "          google.colab.kernel.accessAllowed ? 'block' : 'none';\n",
              "\n",
              "        async function convertToInteractive(key) {\n",
              "          const element = document.querySelector('#df-917088e3-dc55-4c48-b56b-72fc0c7d35f4');\n",
              "          const dataTable =\n",
              "            await google.colab.kernel.invokeFunction('convertToInteractive',\n",
              "                                                     [key], {});\n",
              "          if (!dataTable) return;\n",
              "\n",
              "          const docLinkHtml = 'Like what you see? Visit the ' +\n",
              "            '<a target=\"_blank\" href=https://colab.research.google.com/notebooks/data_table.ipynb>data table notebook</a>'\n",
              "            + ' to learn more about interactive tables.';\n",
              "          element.innerHTML = '';\n",
              "          dataTable['output_type'] = 'display_data';\n",
              "          await google.colab.output.renderOutput(dataTable, element);\n",
              "          const docLink = document.createElement('div');\n",
              "          docLink.innerHTML = docLinkHtml;\n",
              "          element.appendChild(docLink);\n",
              "        }\n",
              "      </script>\n",
              "    </div>\n",
              "  </div>\n",
              "  "
            ]
          },
          "metadata": {},
          "execution_count": 9
        }
      ]
    },
    {
      "cell_type": "code",
      "execution_count": null,
      "metadata": {
        "id": "wXcVSV9qXBaW"
      },
      "outputs": [],
      "source": [
        "# Uncomment to do (part of) the analysis on the full dataset.\n",
        "# papers, edges = load('../data/s2_2_bipartite_graph/paper_author_full.pickle')"
      ]
    },
    {
      "cell_type": "code",
      "execution_count": null,
      "metadata": {
        "id": "xp4RxG1hXBaW",
        "outputId": "54112a4c-56e1-4060-b439-5577640d547e",
        "colab": {
          "base_uri": "https://localhost:8080/"
        }
      },
      "outputs": [
        {
          "output_type": "stream",
          "name": "stdout",
          "text": [
            "biadjacency matrix: 241,412 papers, 741,665 authors, 1,805,826 edges\n"
          ]
        }
      ],
      "source": [
        "# biadjacency = sparse.load_npz('../data/s2_2_bipartite_graph/paper_author_biadjacency.npz')\n",
        "# url_biadjacency = 'https://zenodo.org/record/4144319/files/paper_author_biadjacency.npz'\n",
        "# !wget -O paper_author_biadjacency.npz \"https://zenodo.org/record/4144319/files/paper_author_biadjacency.npz\"\n",
        "biadjacency = sparse.load_npz('paper_author_biadjacency.npz')\n",
        "\n",
        "print('biadjacency matrix: {:,} papers, {:,} authors, {:,} edges'.format(\n",
        "    *biadjacency.shape, biadjacency.nnz))"
      ]
    },
    {
      "cell_type": "code",
      "execution_count": null,
      "metadata": {
        "id": "e6GoUn2HXBaX",
        "colab": {
          "base_uri": "https://localhost:8080/"
        },
        "outputId": "05463ed3-8c7b-49a5-c5de-5963db454c79"
      },
      "outputs": [
        {
          "output_type": "stream",
          "name": "stdout",
          "text": [
            "adjacency matrix: 241,412 papers, 10,276,283 edges\n",
            "adjacency matrix: 741,665 authors, 18,874,369 edges\n"
          ]
        }
      ],
      "source": [
        "# !wget -O adjacency_papers.npz \"https://zenodo.org/record/4144319/files/papers_adjacency.npz\"\n",
        "adjacency_papers = sparse.load_npz('adjacency_papers.npz')\n",
        "# !wget -O adjacency_authors.npz \"https://zenodo.org/record/4144319/files/authors_adjacency.npz\"\n",
        "adjacency_authors = sparse.load_npz('adjacency_authors.npz')\n",
        "# adjacency_papers = sparse.load_npz('../data/s2_2_bipartite_graph/papers_adjacency.npz')\n",
        "# adjacency_authors = sparse.load_npz('../data/s2_2_bipartite_graph/authors_adjacency.npz')\n",
        "\n",
        "print('adjacency matrix: {:,} papers, {:,} edges'.format(adjacency_papers.shape[0], adjacency_papers.nnz // 2))\n",
        "print('adjacency matrix: {:,} authors, {:,} edges'.format(adjacency_authors.shape[0], adjacency_authors.nnz // 2))"
      ]
    },
    {
      "cell_type": "code",
      "execution_count": null,
      "metadata": {
        "id": "-ZARj9O8XBaX"
      },
      "outputs": [],
      "source": [
        "s_node=150250\n",
        "simplices=np.load(f'simplicial_neural_networks/data/s2_3_collaboration_complex/{s_node}_simplices.npy',allow_pickle=True)\n",
        "cochains = np.load(f'simplicial_neural_networks/data/s2_3_collaboration_complex/{s_node}_cochains.npy',allow_pickle=True)\n",
        "\n",
        "# simplices=np.load(f'../data/s2_3_collaboration_complex/{s_node}_simplices.npy',allow_pickle=True)\n",
        "# cochains = np.load(f'../data/s2_3_collaboration_complex/{s_node}_cochains.npy',allow_pickle=True)\n",
        "features=build_features(simplices, cochains)"
      ]
    },
    {
      "cell_type": "code",
      "execution_count": null,
      "metadata": {
        "id": "UiTR_cg5XBaX"
      },
      "outputs": [],
      "source": [
        "laplacians=np.load(f'simplicial_neural_networks/data/s2_3_collaboration_complex/{s_node}_laplacians.npy', allow_pickle=True)\n",
        "boundaries=np.load(f'simplicial_neural_networks/data/s2_3_collaboration_complex/{s_node}_boundaries.npy', allow_pickle=True)\n",
        "\n",
        "# laplacians=np.load(f'../data/s2_3_collaboration_complex/{s_node}_laplacians.npy', allow_pickle=True)\n",
        "# boundaries=np.load(f'../data/s2_3_collaboration_complex/{s_node}_boundaries.npy', allow_pickle=True)\n"
      ]
    },
    {
      "cell_type": "markdown",
      "metadata": {
        "id": "XHR7VIWNXBaX"
      },
      "source": [
        "## 2 Size of collaborations"
      ]
    },
    {
      "cell_type": "code",
      "execution_count": null,
      "metadata": {
        "id": "YOjPbm_5XBaY",
        "colab": {
          "base_uri": "https://localhost:8080/",
          "height": 704
        },
        "outputId": "3898a4bf-e97f-44c0-8cb7-7bc43ab906a9"
      },
      "outputs": [
        {
          "output_type": "stream",
          "name": "stdout",
          "text": [
            "Paper with the most authors (500):\n"
          ]
        },
        {
          "output_type": "display_data",
          "data": {
            "text/plain": [
              "<IPython.core.display.HTML object>"
            ],
            "text/html": [
              "<a href=\"https://api.semanticscholar.org/v1/paper/063f45eb5939b0169bda0dfdb30c064e103a9a1c\">https://api.semanticscholar.org/v1/paper/063f45eb5939b0169bda0dfdb30c064e103a9a1c</a>"
            ]
          },
          "metadata": {}
        },
        {
          "output_type": "display_data",
          "data": {
            "text/plain": [
              "<IPython.core.display.HTML object>"
            ],
            "text/html": [
              "<a href=\"https://www.semanticscholar.org/paper/063f45eb5939b0169bda0dfdb30c064e103a9a1c\">https://www.semanticscholar.org/paper/063f45eb5939b0169bda0dfdb30c064e103a9a1c</a>"
            ]
          },
          "metadata": {}
        },
        {
          "output_type": "stream",
          "name": "stdout",
          "text": [
            "Author with the most papers (799):\n"
          ]
        },
        {
          "output_type": "display_data",
          "data": {
            "text/plain": [
              "<IPython.core.display.HTML object>"
            ],
            "text/html": [
              "<a href=\"https://api.semanticscholar.org/v1/author/2058832\">https://api.semanticscholar.org/v1/author/2058832</a>"
            ]
          },
          "metadata": {}
        },
        {
          "output_type": "display_data",
          "data": {
            "text/plain": [
              "<IPython.core.display.HTML object>"
            ],
            "text/html": [
              "<a href=\"https://www.semanticscholar.org/author/2058832\">https://www.semanticscholar.org/author/2058832</a>"
            ]
          },
          "metadata": {}
        },
        {
          "output_type": "display_data",
          "data": {
            "text/plain": [
              "<Figure size 1700x500 with 1 Axes>"
            ],
            "image/png": "[encoded data removed]"
          },
          "metadata": {}
        },
        {
          "output_type": "display_data",
          "data": {
            "text/plain": [
              "<Figure size 1700x500 with 1 Axes>"
            ],
            "image/png": "[encoded data removed]"
          },
          "metadata": {}
        }
      ],
      "source": [
        "papers_per_author = edges.groupby('author')['paper'].count()\n",
        "authors_per_paper = edges.groupby('paper')['author'].count()\n",
        "\n",
        "print('Paper with the most authors ({}):'.format(authors_per_paper.max()))\n",
        "get_link(authors_per_paper.idxmax(), 'paper')\n",
        "\n",
        "print('Author with the most papers ({}):'.format(papers_per_author.max()))\n",
        "get_link(papers_per_author.idxmax(), 'author')\n",
        "\n",
        "fig, ax = plt.subplots()\n",
        "ax.hist(papers_per_author, bins=bins(papers_per_author), log=True);\n",
        "ax.set_title('number of papers per author');\n",
        "ax.set_xlabel('number of papers');\n",
        "ax.set_ylabel('number of authors');\n",
        "\n",
        "fig, ax = plt.subplots()\n",
        "ax.hist(authors_per_paper, bins=bins(authors_per_paper), log=True);\n",
        "ax.set_title('number of authors per paper');\n",
        "ax.set_xlabel('number of authors');\n",
        "ax.set_ylabel('number of papers');"
      ]
    },
    {
      "cell_type": "code",
      "execution_count": null,
      "metadata": {
        "id": "H7QNfJhCXBaY",
        "colab": {
          "base_uri": "https://localhost:8080/",
          "height": 608
        },
        "outputId": "5fae4541-7809-4d0a-bb39-9787e38d0366"
      },
      "outputs": [
        {
          "output_type": "display_data",
          "data": {
            "text/plain": [
              "<Figure size 1700x500 with 1 Axes>"
            ],
            "image/png": "[encoded data removed]"
          },
          "metadata": {}
        },
        {
          "output_type": "display_data",
          "data": {
            "text/plain": [
              "<Figure size 1700x500 with 1 Axes>"
            ],
            "image/png": "[encoded data removed]"
          },
          "metadata": {}
        }
      ],
      "source": [
        "fig, ax = plt.subplots()\n",
        "ax.hist(adjacency_authors.data, bins=bins(adjacency_authors.data), log=True);\n",
        "ax.set_title('collaboration between authors');\n",
        "ax.set_xlabel('number of papers in common (edge weight)');\n",
        "\n",
        "fig, ax = plt.subplots()\n",
        "ax.hist(adjacency_papers.data, bins=bins(adjacency_papers.data), log=True);\n",
        "ax.set_title('collaboration between papers');\n",
        "ax.set_xlabel('number of authors in common (edge weight)');"
      ]
    },
    {
      "cell_type": "markdown",
      "metadata": {
        "id": "spy3rp3RXBaY"
      },
      "source": [
        "## 3 Publication year"
      ]
    },
    {
      "cell_type": "code",
      "execution_count": null,
      "metadata": {
        "id": "9XmamtNxXBaZ",
        "colab": {
          "base_uri": "https://localhost:8080/",
          "height": 297
        },
        "outputId": "1244c154-a8cf-4c96-a23e-e906e5acc987"
      },
      "outputs": [
        {
          "output_type": "display_data",
          "data": {
            "text/plain": [
              "<Figure size 1700x500 with 1 Axes>"
            ],
            "image/png": "[encoded data removed]"
          },
          "metadata": {}
        }
      ],
      "source": [
        "ax = papers['year'].hist(bins=bins(papers['year']))\n",
        "ax.set_title('number of papers published per year ({} - {})'.format(papers['year'].min(), papers['year'].max()));"
      ]
    },
    {
      "cell_type": "markdown",
      "metadata": {
        "id": "orzLi1FvXBaZ"
      },
      "source": [
        "## 4 Citations"
      ]
    },
    {
      "cell_type": "code",
      "execution_count": null,
      "metadata": {
        "id": "CSQt_NwvXBaZ",
        "outputId": "2a945535-ac27-44de-a732-79836628a5c1",
        "colab": {
          "base_uri": "https://localhost:8080/",
          "height": 139
        }
      },
      "outputs": [
        {
          "output_type": "stream",
          "name": "stdout",
          "text": [
            "papers have at least 0 citations (2019)\n",
            "papers have at most 234 citations (2019)\n",
            "there are 443,283 citations in total (2019)\n",
            "\n",
            "Most cited paper (234 citations):\n"
          ]
        },
        {
          "output_type": "display_data",
          "data": {
            "text/plain": [
              "<IPython.core.display.HTML object>"
            ],
            "text/html": [
              "<a href=\"https://api.semanticscholar.org/v1/paper/30523\">https://api.semanticscholar.org/v1/paper/30523</a>"
            ]
          },
          "metadata": {}
        },
        {
          "output_type": "display_data",
          "data": {
            "text/plain": [
              "<IPython.core.display.HTML object>"
            ],
            "text/html": [
              "<a href=\"https://www.semanticscholar.org/paper/30523\">https://www.semanticscholar.org/paper/30523</a>"
            ]
          },
          "metadata": {}
        }
      ],
      "source": [
        "print('papers have at least {:,} citations (2019)'.format(papers['citations_2019'].min()))\n",
        "print('papers have at most {:,} citations (2019)'.format(papers['citations_2019'].max()))\n",
        "print('there are {:,} citations in total (2019)'.format(papers['citations_2019'].sum()))\n",
        "print()\n",
        "\n",
        "# print('authors have at least {:,} citations'.format(authors['citations_2019'].min()))\n",
        "# print('authors have at most {:,} citations'.format(authors['citations_2019'].max()))\n",
        "# print('there are {:,} in total'.format(authors['citations_2019'].sum()))\n",
        "# print()\n",
        "\n",
        "print('Most cited paper ({:,} citations):'.format(papers['citations_2019'].max()))\n",
        "get_link(papers['citations_2019'].idxmax(), 'paper')\n",
        "\n",
        "# print('Most cited author ({:,} citations):'.format(authors['citations_2019'].max()))\n",
        "# get_link(authors['citations_2019'].idxmax(), 'author')"
      ]
    },
    {
      "cell_type": "code",
      "execution_count": null,
      "metadata": {
        "id": "fhimOQ4RXBaZ",
        "outputId": "5a54ef0c-4755-4569-d579-ac0eae8d35f8",
        "colab": {
          "base_uri": "https://localhost:8080/",
          "height": 289
        }
      },
      "outputs": [
        {
          "output_type": "display_data",
          "data": {
            "text/plain": [
              "<Figure size 1700x500 with 1 Axes>"
            ],
            "image/png": "[encoded data removed]"
          },
          "metadata": {}
        }
      ],
      "source": [
        "years = [int(column[-4:]) for column in papers.columns if 'citations' in column[:-4]]\n",
        "citations_per_year = np.zeros(len(years))\n",
        "for i, year in enumerate(years):\n",
        "    citations_per_year[i] = papers[f'citations_{year}'].sum()\n",
        "fig, ax = plt.subplots()\n",
        "ax.plot(years, citations_per_year, '.-')\n",
        "ax.set_xticks(years)\n",
        "ax.get_yaxis().set_major_formatter(\n",
        "    mpl.ticker.FuncFormatter(lambda x, p: format(int(x), ',')))\n",
        "ax.set_xlabel('year')\n",
        "ax.set_ylabel('number of citations');"
      ]
    },
    {
      "cell_type": "code",
      "execution_count": null,
      "metadata": {
        "id": "yuXheo6QXBaa",
        "outputId": "6c3654d1-9f2b-46ad-88f8-5c463cd83f01",
        "colab": {
          "base_uri": "https://localhost:8080/",
          "height": 330
        }
      },
      "outputs": [
        {
          "output_type": "display_data",
          "data": {
            "text/plain": [
              "<Figure size 1500x500 with 1 Axes>"
            ],
            "image/png": "[encoded data removed]"
          },
          "metadata": {}
        }
      ],
      "source": [
        "fig, ax = plt.subplots(figsize=(15, 5))\n",
        "for year in years[::-1]:\n",
        "    ax.hist(papers[f'citations_{year}'], bins=bins(papers['citations_2019']), log=True, label=f'Year {year}', alpha=0.4)\n",
        "ax.set_xlabel('number of citations')\n",
        "ax.set_ylabel('number of papers')\n",
        "ax.legend();"
      ]
    },
    {
      "cell_type": "markdown",
      "metadata": {
        "id": "ODTEEN0kXBaa"
      },
      "source": [
        "## 5 References"
      ]
    },
    {
      "cell_type": "code",
      "execution_count": null,
      "metadata": {
        "id": "PeDBmk0JXBaa",
        "outputId": "b72e9aa0-953a-4f8f-c9d1-f7daaebcfb6a",
        "colab": {
          "base_uri": "https://localhost:8080/",
          "height": 104
        }
      },
      "outputs": [
        {
          "output_type": "stream",
          "name": "stdout",
          "text": [
            "papers have at least 1 references\n",
            "papers have at most 5,558 references\n",
            "most referencing paper (5,558 references):\n"
          ]
        },
        {
          "output_type": "display_data",
          "data": {
            "text/plain": [
              "<IPython.core.display.HTML object>"
            ],
            "text/html": [
              "<a href=\"https://api.semanticscholar.org/v1/paper/42866\">https://api.semanticscholar.org/v1/paper/42866</a>"
            ]
          },
          "metadata": {}
        },
        {
          "output_type": "display_data",
          "data": {
            "text/plain": [
              "<IPython.core.display.HTML object>"
            ],
            "text/html": [
              "<a href=\"https://www.semanticscholar.org/paper/42866\">https://www.semanticscholar.org/paper/42866</a>"
            ]
          },
          "metadata": {}
        }
      ],
      "source": [
        "print('papers have at least {:,} references'.format(papers['references'].min()))\n",
        "print('papers have at most {:,} references'.format(papers['references'].max()))\n",
        "\n",
        "print('most referencing paper ({:,} references):'.format(papers['references'].max()))\n",
        "get_link(papers['references'].idxmax(), 'paper')"
      ]
    },
    {
      "cell_type": "code",
      "execution_count": null,
      "metadata": {
        "id": "vM50lQlFXBaa",
        "outputId": "e368f2f7-a51b-48f5-b205-d099ee1c1773",
        "colab": {
          "base_uri": "https://localhost:8080/",
          "height": 286
        }
      },
      "outputs": [
        {
          "output_type": "display_data",
          "data": {
            "text/plain": [
              "<Figure size 1700x500 with 1 Axes>"
            ],
            "image/png": "[encoded data removed]"
          },
          "metadata": {}
        }
      ],
      "source": [
        "papers['references'].hist(bins=bins(papers['references']), log=True);"
      ]
    },
    {
      "cell_type": "markdown",
      "metadata": {
        "id": "vxMv16BdXBab"
      },
      "source": [
        "## 6 Collaboration complex between authors"
      ]
    },
    {
      "cell_type": "code",
      "execution_count": null,
      "metadata": {
        "id": "vJDPYdURXBab",
        "outputId": "79af3384-4e68-40ff-d02d-546499a6d923",
        "colab": {
          "base_uri": "https://localhost:8080/"
        }
      },
      "outputs": [
        {
          "output_type": "stream",
          "name": "stdout",
          "text": [
            "352 0-simplices\n",
            "1,474 1-simplices\n",
            "3,285 2-simplices\n",
            "5,019 3-simplices\n",
            "5,559 4-simplices\n",
            "4,547 5-simplices\n",
            "2,732 6-simplices\n",
            "1,175 7-simplices\n",
            "343 8-simplices\n",
            "61 9-simplices\n",
            "5 10-simplices\n",
            "24,552 simplices in total\n"
          ]
        }
      ],
      "source": [
        "dimension = len(simplices)\n",
        "sizes = np.array([len(s) for s in simplices])\n",
        "\n",
        "for k, size in enumerate(sizes):\n",
        "    print(f'{size:,} {k}-simplices')\n",
        "print('{:,} simplices in total'.format(np.sum(sizes)))"
      ]
    },
    {
      "cell_type": "code",
      "execution_count": null,
      "metadata": {
        "id": "VJe4ZIooXBab",
        "outputId": "a290185d-193b-440e-b9ff-007bf3c846ad",
        "colab": {
          "base_uri": "https://localhost:8080/",
          "height": 293
        }
      },
      "outputs": [
        {
          "output_type": "display_data",
          "data": {
            "text/plain": [
              "<Figure size 1700x500 with 1 Axes>"
            ],
            "image/png": "[encoded data removed]"
          },
          "metadata": {}
        }
      ],
      "source": [
        "fig, ax = plt.subplots()\n",
        "ax.plot(range(dimension), sizes, '.-')\n",
        "ax.set_xlabel('simplex dimension')\n",
        "ax.set_ylabel('number of simplices');"
      ]
    },
    {
      "cell_type": "markdown",
      "metadata": {
        "id": "_pM2B6XuXBab"
      },
      "source": [
        "## 7 Operators (boundaries and Laplacians)"
      ]
    },
    {
      "cell_type": "code",
      "execution_count": null,
      "metadata": {
        "id": "FLb4bnbZXBab",
        "outputId": "cfefa1b0-4980-48c4-9497-49352600d924",
        "colab": {
          "base_uri": "https://localhost:8080/"
        }
      },
      "outputs": [
        {
          "output_type": "stream",
          "name": "stdout",
          "text": [
            "1-boundary matrix: 352 x 1,474, 2,948 non-zeros (0.57%)\n",
            "2-boundary matrix: 1,474 x 3,285, 9,855 non-zeros (0.20%)\n",
            "3-boundary matrix: 3,285 x 5,019, 20,076 non-zeros (0.12%)\n",
            "4-boundary matrix: 5,019 x 5,559, 27,795 non-zeros (0.10%)\n",
            "5-boundary matrix: 5,559 x 4,547, 27,282 non-zeros (0.11%)\n",
            "6-boundary matrix: 4,547 x 2,732, 19,124 non-zeros (0.15%)\n",
            "7-boundary matrix: 2,732 x 1,175, 9,400 non-zeros (0.29%)\n",
            "8-boundary matrix: 1,175 x 343, 3,087 non-zeros (0.77%)\n",
            "9-boundary matrix: 343 x 61, 610 non-zeros (2.92%)\n",
            "10-boundary matrix: 61 x 5, 55 non-zeros (18.03%)\n"
          ]
        }
      ],
      "source": [
        "for dim, boundary in enumerate(boundaries):\n",
        "    print('{}-boundary matrix: {:,} x {:,}, {:,} non-zeros ({:.2%})'.format(\n",
        "        dim+1, *boundary.shape, boundary.nnz, boundary.nnz/np.prod(boundary.shape)))"
      ]
    },
    {
      "cell_type": "code",
      "execution_count": null,
      "metadata": {
        "id": "tPuEF0uyXBac"
      },
      "outputs": [],
      "source": [
        "def get_spectrum(laplacian, lowest=False, shift_invert=True):\n",
        "    # Shift-invert mode is much faster, but can raise \"factor is exactly singular\".\n",
        "    largest = sparse.linalg.eigsh(laplacian, k=1, which='LA', return_eigenvectors=False)\n",
        "    if lowest:\n",
        "        if shift_invert:\n",
        "            lowest = sparse.linalg.eigsh(laplacian, k=1, sigma=0, which='LM', return_eigenvectors=False)\n",
        "        else:\n",
        "            lowest = sparse.linalg.eigsh(laplacian, k=1, which='SA', return_eigenvectors=False)\n",
        "        return lowest[0], largest[0]\n",
        "    else:\n",
        "        return largest[0]\n",
        "\n",
        "spectrums = [get_spectrum(laplacian) for laplacian in laplacians]"
      ]
    },
    {
      "cell_type": "code",
      "execution_count": null,
      "metadata": {
        "id": "htEsJYlGXBac",
        "outputId": "894b5265-42e4-40ed-cf0f-776722bd8438",
        "colab": {
          "base_uri": "https://localhost:8080/"
        }
      },
      "outputs": [
        {
          "output_type": "stream",
          "name": "stdout",
          "text": [
            "0-simplices: 352 simplices, 2.66% sparse, spectrum in [0, 117]\n",
            "1-simplices: 1,474 simplices, 1.17% sparse, spectrum in [0, 117]\n",
            "2-simplices: 3,285 simplices, 0.04% sparse, spectrum in [0, 24]\n",
            "3-simplices: 5,019 simplices, 0.02% sparse, spectrum in [0, 16]\n",
            "4-simplices: 5,559 simplices, 0.02% sparse, spectrum in [0, 14]\n",
            "5-simplices: 4,547 simplices, 0.02% sparse, spectrum in [0, 11]\n",
            "6-simplices: 2,732 simplices, 0.04% sparse, spectrum in [0, 11]\n",
            "7-simplices: 1,175 simplices, 0.09% sparse, spectrum in [0, 11]\n",
            "8-simplices: 343 simplices, 0.29% sparse, spectrum in [0, 11]\n",
            "9-simplices: 61 simplices, 1.64% sparse, spectrum in [0, 11]\n",
            "10-simplices: 5 simplices, 20.00% sparse, spectrum in [0, 11]\n"
          ]
        }
      ],
      "source": [
        "for dim, (laplacian, spectrum) in enumerate(zip(laplacians, spectrums)):\n",
        "    print('{}-simplices: {:,} simplices, {:.2%} sparse, spectrum in [0, {:.0f}]'.format(\n",
        "        dim, laplacian.shape[0], laplacian.nnz/np.prod(laplacian.shape), spectrum))\n",
        "    assert laplacian.shape == (len(simplices[dim]), len(simplices[dim]))"
      ]
    },
    {
      "cell_type": "markdown",
      "metadata": {
        "id": "uWBwpvomXBac"
      },
      "source": [
        "## 8 Signals (cochains) on collaboration complex"
      ]
    },
    {
      "cell_type": "code",
      "execution_count": null,
      "metadata": {
        "id": "ea5OnZiHXBac"
      },
      "outputs": [],
      "source": [
        "# Rayleigh quotient between every pair of signals (for all dimensions).\n",
        "n_features = features[0].shape[1]\n",
        "rayleigh = np.empty((len(features), n_features, n_features))\n",
        "for dim in range(len(features)):\n",
        "    rayleigh[dim] = features[dim].T @ laplacians[dim] @ features[dim]\n",
        "    # Division by zero will occur if a signal is all zeros.\n",
        "    rayleigh[dim] /= features[dim].T @ features[dim]"
      ]
    },
    {
      "cell_type": "markdown",
      "metadata": {
        "id": "JSFQdjACXBac"
      },
      "source": [
        "Which signals are \"smooth\"?"
      ]
    },
    {
      "cell_type": "code",
      "source": [
        "# Rayleigh quotient between every pair of signals (for all dimensions).\n",
        "n_features = features[0].shape[1]\n",
        "rayleigh2 = np.empty((len(features), n_features, n_features))\n",
        "for dim in range(len(features)):\n",
        "    rayleigh2[dim] = features[dim].T @ laplacians[dim] @ features[dim]\n",
        "    print(rayleigh2)\n",
        "    print(\"-------------\")\n",
        "    # Division by zero will occur if a signal is all zeros.\n",
        "    rayleigh2[dim] /= features[dim].T @ features[dim]\n",
        "print(laplacians.shape)\n",
        "rayleigh2*= 1/2\n",
        "# print(len(features[0]))\n",
        "# print(rayleigh2)\n",
        "rayleigh2+= np.identity(len(features))\n",
        "rayleigh= np.inverse(rayleigh)"
      ],
      "metadata": {
        "colab": {
          "base_uri": "https://localhost:8080/",
          "height": 1000
        },
        "id": "lWlA-HuEogXj",
        "outputId": "6f4e97d2-101f-4483-f6b5-3077c034ea03"
      },
      "execution_count": null,
      "outputs": [
        {
          "output_type": "stream",
          "name": "stdout",
          "text": [
            "[[[6.458052e+06]]\n",
            "\n",
            " [[1.000000e+00]]\n",
            "\n",
            " [[2.000000e+00]]\n",
            "\n",
            " [[3.000000e+00]]\n",
            "\n",
            " [[4.000000e+00]]\n",
            "\n",
            " [[5.000000e+00]]\n",
            "\n",
            " [[6.000000e+00]]\n",
            "\n",
            " [[7.000000e+00]]\n",
            "\n",
            " [[8.000000e+00]]\n",
            "\n",
            " [[9.000000e+00]]\n",
            "\n",
            " [[1.000000e+01]]]\n",
            "-------------\n",
            "[[[2.77416074e+01]]\n",
            "\n",
            " [[4.80355200e+06]]\n",
            "\n",
            " [[2.00000000e+00]]\n",
            "\n",
            " [[3.00000000e+00]]\n",
            "\n",
            " [[4.00000000e+00]]\n",
            "\n",
            " [[5.00000000e+00]]\n",
            "\n",
            " [[6.00000000e+00]]\n",
            "\n",
            " [[7.00000000e+00]]\n",
            "\n",
            " [[8.00000000e+00]]\n",
            "\n",
            " [[9.00000000e+00]]\n",
            "\n",
            " [[1.00000000e+01]]]\n",
            "-------------\n",
            "[[[2.77416074e+01]]\n",
            "\n",
            " [[1.15878639e+01]]\n",
            "\n",
            " [[5.61862800e+06]]\n",
            "\n",
            " [[3.00000000e+00]]\n",
            "\n",
            " [[4.00000000e+00]]\n",
            "\n",
            " [[5.00000000e+00]]\n",
            "\n",
            " [[6.00000000e+00]]\n",
            "\n",
            " [[7.00000000e+00]]\n",
            "\n",
            " [[8.00000000e+00]]\n",
            "\n",
            " [[9.00000000e+00]]\n",
            "\n",
            " [[1.00000000e+01]]]\n",
            "-------------\n",
            "[[[2.77416074e+01]]\n",
            "\n",
            " [[1.15878639e+01]]\n",
            "\n",
            " [[7.94437579e+00]]\n",
            "\n",
            " [[7.24612700e+06]]\n",
            "\n",
            " [[4.00000000e+00]]\n",
            "\n",
            " [[5.00000000e+00]]\n",
            "\n",
            " [[6.00000000e+00]]\n",
            "\n",
            " [[7.00000000e+00]]\n",
            "\n",
            " [[8.00000000e+00]]\n",
            "\n",
            " [[9.00000000e+00]]\n",
            "\n",
            " [[1.00000000e+01]]]\n",
            "-------------\n",
            "[[[2.77416074e+01]]\n",
            "\n",
            " [[1.15878639e+01]]\n",
            "\n",
            " [[7.94437579e+00]]\n",
            "\n",
            " [[8.54468903e+00]]\n",
            "\n",
            " [[7.10360500e+06]]\n",
            "\n",
            " [[5.00000000e+00]]\n",
            "\n",
            " [[6.00000000e+00]]\n",
            "\n",
            " [[7.00000000e+00]]\n",
            "\n",
            " [[8.00000000e+00]]\n",
            "\n",
            " [[9.00000000e+00]]\n",
            "\n",
            " [[1.00000000e+01]]]\n",
            "-------------\n",
            "[[[2.77416074e+01]]\n",
            "\n",
            " [[1.15878639e+01]]\n",
            "\n",
            " [[7.94437579e+00]]\n",
            "\n",
            " [[8.54468903e+00]]\n",
            "\n",
            " [[9.26088090e+00]]\n",
            "\n",
            " [[5.36601600e+06]]\n",
            "\n",
            " [[6.00000000e+00]]\n",
            "\n",
            " [[7.00000000e+00]]\n",
            "\n",
            " [[8.00000000e+00]]\n",
            "\n",
            " [[9.00000000e+00]]\n",
            "\n",
            " [[1.00000000e+01]]]\n",
            "-------------\n",
            "[[[2.77416074e+01]]\n",
            "\n",
            " [[1.15878639e+01]]\n",
            "\n",
            " [[7.94437579e+00]]\n",
            "\n",
            " [[8.54468903e+00]]\n",
            "\n",
            " [[9.26088090e+00]]\n",
            "\n",
            " [[9.85170348e+00]]\n",
            "\n",
            " [[3.06627000e+06]]\n",
            "\n",
            " [[7.00000000e+00]]\n",
            "\n",
            " [[8.00000000e+00]]\n",
            "\n",
            " [[9.00000000e+00]]\n",
            "\n",
            " [[1.00000000e+01]]]\n",
            "-------------\n",
            "[[[2.77416074e+01]]\n",
            "\n",
            " [[1.15878639e+01]]\n",
            "\n",
            " [[7.94437579e+00]]\n",
            "\n",
            " [[8.54468903e+00]]\n",
            "\n",
            " [[9.26088090e+00]]\n",
            "\n",
            " [[9.85170348e+00]]\n",
            "\n",
            " [[1.02309263e+01]]\n",
            "\n",
            " [[1.26947700e+06]]\n",
            "\n",
            " [[8.00000000e+00]]\n",
            "\n",
            " [[9.00000000e+00]]\n",
            "\n",
            " [[1.00000000e+01]]]\n",
            "-------------\n",
            "[[[2.77416074e+01]]\n",
            "\n",
            " [[1.15878639e+01]]\n",
            "\n",
            " [[7.94437579e+00]]\n",
            "\n",
            " [[8.54468903e+00]]\n",
            "\n",
            " [[9.26088090e+00]]\n",
            "\n",
            " [[9.85170348e+00]]\n",
            "\n",
            " [[1.02309263e+01]]\n",
            "\n",
            " [[1.04879917e+01]]\n",
            "\n",
            " [[3.58569000e+05]]\n",
            "\n",
            " [[9.00000000e+00]]\n",
            "\n",
            " [[1.00000000e+01]]]\n",
            "-------------\n",
            "[[[2.77416074e+01]]\n",
            "\n",
            " [[1.15878639e+01]]\n",
            "\n",
            " [[7.94437579e+00]]\n",
            "\n",
            " [[8.54468903e+00]]\n",
            "\n",
            " [[9.26088090e+00]]\n",
            "\n",
            " [[9.85170348e+00]]\n",
            "\n",
            " [[1.02309263e+01]]\n",
            "\n",
            " [[1.04879917e+01]]\n",
            "\n",
            " [[1.07160276e+01]]\n",
            "\n",
            " [[6.26010000e+04]]\n",
            "\n",
            " [[1.00000000e+01]]]\n",
            "-------------\n",
            "[[[  27.74160735]]\n",
            "\n",
            " [[  11.58786393]]\n",
            "\n",
            " [[   7.94437579]]\n",
            "\n",
            " [[   8.54468903]]\n",
            "\n",
            " [[   9.2608809 ]]\n",
            "\n",
            " [[   9.85170348]]\n",
            "\n",
            " [[  10.23092631]]\n",
            "\n",
            " [[  10.48799167]]\n",
            "\n",
            " [[  10.71602761]]\n",
            "\n",
            " [[  10.90229885]]\n",
            "\n",
            " [[5181.        ]]]\n",
            "-------------\n",
            "(11,)\n"
          ]
        },
        {
          "output_type": "error",
          "ename": "ValueError",
          "evalue": "ignored",
          "traceback": [
            "\u001b[0;31m---------------------------------------------------------------------------\u001b[0m",
            "\u001b[0;31mValueError\u001b[0m                                Traceback (most recent call last)",
            "\u001b[0;32m<ipython-input-29-41c031fbe72a>\u001b[0m in \u001b[0;36m<cell line: 14>\u001b[0;34m()\u001b[0m\n\u001b[1;32m     12\u001b[0m \u001b[0;31m# print(len(features[0]))\u001b[0m\u001b[0;34m\u001b[0m\u001b[0;34m\u001b[0m\u001b[0m\n\u001b[1;32m     13\u001b[0m \u001b[0;31m# print(rayleigh2)\u001b[0m\u001b[0;34m\u001b[0m\u001b[0;34m\u001b[0m\u001b[0m\n\u001b[0;32m---> 14\u001b[0;31m \u001b[0mrayleigh2\u001b[0m\u001b[0;34m+=\u001b[0m \u001b[0mnp\u001b[0m\u001b[0;34m.\u001b[0m\u001b[0midentity\u001b[0m\u001b[0;34m(\u001b[0m\u001b[0mlen\u001b[0m\u001b[0;34m(\u001b[0m\u001b[0mfeatures\u001b[0m\u001b[0;34m)\u001b[0m\u001b[0;34m)\u001b[0m\u001b[0;34m\u001b[0m\u001b[0;34m\u001b[0m\u001b[0m\n\u001b[0m\u001b[1;32m     15\u001b[0m \u001b[0mrayleigh\u001b[0m\u001b[0;34m=\u001b[0m \u001b[0mnp\u001b[0m\u001b[0;34m.\u001b[0m\u001b[0minverse\u001b[0m\u001b[0;34m(\u001b[0m\u001b[0mrayleigh\u001b[0m\u001b[0;34m)\u001b[0m\u001b[0;34m\u001b[0m\u001b[0;34m\u001b[0m\u001b[0m\n",
            "\u001b[0;31mValueError\u001b[0m: non-broadcastable output operand with shape (11,1,1) doesn't match the broadcast shape (11,11,11)"
          ]
        }
      ]
    },
    {
      "cell_type": "code",
      "source": [
        "# Rayleigh quotient between every pair of signals (for all dimensions).\n",
        "n_features = features[0].shape[1]\n",
        "rayleigh3 = np.empty((len(features), n_features, n_features))\n",
        "print(rayleigh3)\n",
        "# for dim in range(len(features)):\n",
        "rayleigh3 =  np.linalg.inv(np.identity(352)+(1/2)*laplacians[0])\n",
        "# print(rayleigh3)\n",
        "# print(\"-------\")\n",
        "# print(rayleigh)\n",
        "    # Division by zero will occur if a signal is all zeros.\n",
        "# rayleigh3[dim] /= features[dim].T @ features[dim]"
      ],
      "metadata": {
        "id": "Dow1VRmE2Qby"
      },
      "execution_count": null,
      "outputs": []
    },
    {
      "cell_type": "code",
      "source": [
        "# Rayleigh quotient between every pair of signals (for all dimensions).\n",
        "n_features = features[0].shape[1]\n",
        "rayleigh4 = np.empty((len(features), n_features, n_features))\n",
        "for dim in range(len(features)):\n",
        "  if dim==1:\n",
        "    # rayleigh4[dim]=np.linalg.inv(np.identity(1474)+(1/2)*laplacians[dim])\n",
        "    rayleigh4[dim]=features[dim].T @ np.linalg.inv(np.identity(1474)+(1/2)*laplacians[dim]) @ features[dim]\n",
        "  else:\n",
        "    rayleigh4[dim] = features[dim].T @ laplacians[dim] @ features[dim]\n",
        "    # Division by zero will occur if a signal is all zeros.\n",
        "  rayleigh4[dim] /= features[dim].T @ features[dim]"
      ],
      "metadata": {
        "id": "AEahbxAkrB6y"
      },
      "execution_count": null,
      "outputs": []
    },
    {
      "cell_type": "code",
      "source": [
        "for dim in range(len(features)):\n",
        "  print(rayleigh[dim],'--->',rayleigh4[dim])"
      ],
      "metadata": {
        "id": "B1LKjp_JtVLU"
      },
      "execution_count": null,
      "outputs": []
    },
    {
      "cell_type": "code",
      "execution_count": null,
      "metadata": {
        "id": "NCHg5EZLXBad"
      },
      "outputs": [],
      "source": [
        "#columns = ['citations_1994', 'citations_1999', 'citations_2004', 'citations_2009', 'citations_2014', 'citations_2019', 'references', 'year']\n",
        "columns=['citations_2019']\n",
        "fig, ax = plt.subplots()\n",
        "ax.set_title('smoothness of signals')\n",
        "ax.set_ylabel('Rayleigh quotient')\n",
        "ax.set_xlabel(\"signal's name\")\n",
        "ax.semilogy(np.array([np.diag(r) for r in rayleigh]).T, 'o-')\n",
        "ax.set_xticks(range(len(columns)))\n",
        "ax.set_xticklabels(columns)\n",
        "ax.legend([f'{dim}-cochains ($\\lambda_{{max}} = {spectrums[dim]:.0f}$)' for dim in range(len(features))], loc='lower left')\n",
        "fig.tight_layout();\n",
        "#fig.savefig('smoothness.pdf');"
      ]
    },
    {
      "cell_type": "markdown",
      "metadata": {
        "id": "ufPKe5AFXBad"
      },
      "source": [
        "Does a signal explain another?"
      ]
    },
    {
      "cell_type": "code",
      "execution_count": null,
      "metadata": {
        "id": "eOcQCwYtXBad"
      },
      "outputs": [],
      "source": [
        "fig, axes = plt.subplots(1, len(rayleigh))\n",
        "for dim, (r, ax) in enumerate(zip(rayleigh, axes)):\n",
        "    im = ax.imshow(r)\n",
        "    ax.set_title(f'dimension {dim}')"
      ]
    },
    {
      "cell_type": "markdown",
      "metadata": {
        "id": "QtMaQHQqXBao"
      },
      "source": [
        "## 9 Laplacians' spectra (and Fourier transform)"
      ]
    },
    {
      "cell_type": "code",
      "execution_count": null,
      "metadata": {
        "id": "l5rP4Js_XBao"
      },
      "outputs": [],
      "source": [
        "eigenvalues, eigenvectors = np.linalg.eigh(laplacians[0].toarray())"
      ]
    },
    {
      "cell_type": "markdown",
      "metadata": {
        "id": "QeQpTko9XBap"
      },
      "source": [
        "The spectrum of the 0-Laplacian has a couple of very high eigenvalues."
      ]
    },
    {
      "cell_type": "code",
      "execution_count": null,
      "metadata": {
        "id": "7LsBgvwVXBap"
      },
      "outputs": [],
      "source": [
        "plt.plot(eigenvalues);\n",
        "print(eigenvalues[:10])"
      ]
    },
    {
      "cell_type": "markdown",
      "metadata": {
        "id": "P-bv8l-OXBap"
      },
      "source": [
        "Some eigenvalues have high multiplicity. Probably due to the connected cliques formed by the higher-dimensional simplices."
      ]
    },
    {
      "cell_type": "code",
      "execution_count": null,
      "metadata": {
        "id": "n0DoJUVOXBap"
      },
      "outputs": [],
      "source": [
        "plt.plot(eigenvalues[:-100]);"
      ]
    },
    {
      "cell_type": "code",
      "execution_count": null,
      "metadata": {
        "id": "5qiismxyXBaq"
      },
      "outputs": [],
      "source": [
        "multiplicities = [np.sum(eigenvalues == e) for e in range(20)]\n",
        "\n",
        "fig, ax = plt.subplots()\n",
        "ax.plot(multiplicities, 'o-')\n",
        "ax.set_xticks(range(len(multiplicities)))\n",
        "ax.set_title('eigenvalue multiplicities') #Wi\n",
        "ax.set_ylabel('muliplicity')\n",
        "ax.set_xlabel('eigenvalue');"
      ]
    },
    {
      "cell_type": "markdown",
      "metadata": {
        "id": "N2nH7byTXBaq"
      },
      "source": [
        "Fourier transform of 0-cochains. Their spectral content should tell how smooth they are."
      ]
    },
    {
      "cell_type": "code",
      "execution_count": null,
      "metadata": {
        "id": "k3nNoXZfXBaq"
      },
      "outputs": [],
      "source": [
        "fourier = eigenvectors.T @ (features[0] / np.linalg.norm(features[0], axis=0))"
      ]
    },
    {
      "cell_type": "code",
      "execution_count": null,
      "metadata": {
        "id": "3uak75HSXBaq"
      },
      "outputs": [],
      "source": [
        "idx_max = -100\n",
        "\n",
        "plt.semilogy(eigenvalues[:idx_max], np.abs(fourier)[:idx_max], '.', alpha=0.8)\n",
        "plt.legend(columns);"
      ]
    },
    {
      "cell_type": "code",
      "source": [
        "%cd /content/simplicial_neural_networks\n",
        "!python ./experiments/impute_citations.py ./data/s2_3_collaboration_complex ./experiments/output 150250 30"
      ],
      "metadata": {
        "colab": {
          "base_uri": "https://localhost:8080/"
        },
        "id": "VxduARz1D5YD",
        "outputId": "27272a46-581e-466e-fee1-9a1696334465"
      },
      "execution_count": null,
      "outputs": [
        {
          "output_type": "stream",
          "name": "stdout",
          "text": [
            "/content/simplicial_neural_networks\n",
            "Parameter counts:\n",
            "150\n",
            "30\n",
            "4500\n",
            "30\n",
            "150\n",
            "1\n",
            "150\n",
            "30\n",
            "4500\n",
            "30\n",
            "150\n",
            "1\n",
            "150\n",
            "30\n",
            "4500\n",
            "30\n",
            "150\n",
            "1\n",
            "Total number of parameters: 14583\n",
            "[0.6988636363636364, 0.6994572591587517, 0.6998477929984779]\n"
          ]
        }
      ]
    },
    {
      "cell_type": "code",
      "source": [
        "from google.colab import files\n",
        "files.download(\"/content/simplicial_neural_networks/experiments/output\")"
      ],
      "metadata": {
        "id": "_NDpLmCmaeQ2",
        "colab": {
          "base_uri": "https://localhost:8080/",
          "height": 34
        },
        "outputId": "9c2f6969-8bb9-4bdc-aeac-33c365a51753"
      },
      "execution_count": null,
      "outputs": [
        {
          "output_type": "display_data",
          "data": {
            "text/plain": [
              "<IPython.core.display.Javascript object>"
            ],
            "application/javascript": [
              "\n",
              "    async function download(id, filename, size) {\n",
              "      if (!google.colab.kernel.accessAllowed) {\n",
              "        return;\n",
              "      }\n",
              "      const div = document.createElement('div');\n",
              "      const label = document.createElement('label');\n",
              "      label.textContent = `Downloading \"${filename}\": `;\n",
              "      div.appendChild(label);\n",
              "      const progress = document.createElement('progress');\n",
              "      progress.max = size;\n",
              "      div.appendChild(progress);\n",
              "      document.body.appendChild(div);\n",
              "\n",
              "      const buffers = [];\n",
              "      let downloaded = 0;\n",
              "\n",
              "      const channel = await google.colab.kernel.comms.open(id);\n",
              "      // Send a message to notify the kernel that we're ready.\n",
              "      channel.send({})\n",
              "\n",
              "      for await (const message of channel.messages) {\n",
              "        // Send a message to notify the kernel that we're ready.\n",
              "        channel.send({})\n",
              "        if (message.buffers) {\n",
              "          for (const buffer of message.buffers) {\n",
              "            buffers.push(buffer);\n",
              "            downloaded += buffer.byteLength;\n",
              "            progress.value = downloaded;\n",
              "          }\n",
              "        }\n",
              "      }\n",
              "      const blob = new Blob(buffers, {type: 'application/binary'});\n",
              "      const a = document.createElement('a');\n",
              "      a.href = window.URL.createObjectURL(blob);\n",
              "      a.download = filename;\n",
              "      div.appendChild(a);\n",
              "      a.click();\n",
              "      div.remove();\n",
              "    }\n",
              "  "
            ]
          },
          "metadata": {}
        },
        {
          "output_type": "display_data",
          "data": {
            "text/plain": [
              "<IPython.core.display.Javascript object>"
            ],
            "application/javascript": [
              "download(\"download_81764870-b9e4-4e13-8e18-fb6dd44d740e\", \"output\", 253952)"
            ]
          },
          "metadata": {}
        }
      ]
    },
    {
      "cell_type": "code",
      "source": [
        "import shutil\n",
        "%cd /content/simplicial_neural_networks/experiments/output\n",
        "shutil.make_archive('new', 'zip', 'output')"
      ],
      "metadata": {
        "colab": {
          "base_uri": "https://localhost:8080/",
          "height": 53
        },
        "id": "UGv3M8VzWujW",
        "outputId": "b0d33817-de33-4715-9168-19cf516f5b77"
      },
      "execution_count": null,
      "outputs": [
        {
          "output_type": "stream",
          "name": "stdout",
          "text": [
            "/content/simplicial_neural_networks/experiments/output\n"
          ]
        },
        {
          "output_type": "execute_result",
          "data": {
            "text/plain": [
              "'/content/simplicial_neural_networks/experiments/output/new.zip'"
            ],
            "application/vnd.google.colaboratory.intrinsic+json": {
              "type": "string"
            }
          },
          "metadata": {},
          "execution_count": 9
        }
      ]
    },
    {
      "cell_type": "code",
      "source": [
        "c=0\n",
        "for filename in os.listdir(folder_path):\n",
        "  c+=1\n",
        "print(c)"
      ],
      "metadata": {
        "colab": {
          "base_uri": "https://localhost:8080/"
        },
        "id": "XlywSQlxkUpT",
        "outputId": "67af110f-91a0-4255-c392-63999d54f4df"
      },
      "execution_count": null,
      "outputs": [
        {
          "output_type": "stream",
          "name": "stdout",
          "text": [
            "6304\n"
          ]
        }
      ]
    },
    {
      "cell_type": "code",
      "source": [
        "#calculating accuracy for the 0-laplacian\n",
        "\n",
        "import os\n",
        "import numpy as np\n",
        "from sklearn.metrics import accuracy_score\n",
        "\n",
        "folder_path = '/content/simplicial_neural_networks/experiments/output'\n",
        "\n",
        "files = os.listdir(folder_path)\n",
        "files.sort()\n",
        "\n",
        "prediction = []\n",
        "actual = []\n",
        "\n",
        "counter=0\n",
        "\n",
        "for filename in os.listdir('.'):\n",
        "    if filename.startswith('prediction') and filename.endswith('0.txt'):\n",
        "        with open(filename, 'r') as f:\n",
        "            numbers_str = f.read()\n",
        "        numbers_list = numbers_str.split()\n",
        "        numbers_int = list(map(float, numbers_list))\n",
        "        prediction += numbers_int\n",
        "        counter+=1\n",
        "    elif filename.startswith('actual') and filename.endswith('0.txt'):\n",
        "        with open(filename, 'r') as f:\n",
        "            numbers_str = f.read()\n",
        "        numbers_list = numbers_str.split()\n",
        "        numbers_int = list(map(float, numbers_list))\n",
        "        actual += numbers_int\n",
        "prediction = [round(x, 0) for x in prediction]\n",
        "actual = [round(x, 0) for x in actual]\n",
        "\n",
        "print(counter)\n",
        "accuracy = accuracy_score(actual, prediction)\n",
        "print(f'Accuracy: {accuracy}')"
      ],
      "metadata": {
        "colab": {
          "base_uri": "https://localhost:8080/"
        },
        "id": "E6sxTANf40H0",
        "outputId": "6199e849-72f3-4d1d-833e-1bce7d512102"
      },
      "execution_count": null,
      "outputs": [
        {
          "output_type": "stream",
          "name": "stdout",
          "text": [
            "1000\n",
            "Accuracy: 0.6454959349593496\n"
          ]
        }
      ]
    },
    {
      "cell_type": "code",
      "source": [
        "#calculating accuracy for the 0-laplacian\n",
        "\n",
        "import os\n",
        "import numpy as np\n",
        "from sklearn.metrics import accuracy_score\n",
        "\n",
        "folder_path = '/content/simplicial_neural_networks/experiments/output'\n",
        "\n",
        "files = os.listdir(folder_path)\n",
        "files.sort()\n",
        "\n",
        "prediction = []\n",
        "actual = []\n",
        "\n",
        "counter=0\n",
        "\n",
        "for filename in os.listdir('.'):\n",
        "    if filename.startswith('prediction') and filename.endswith('1.txt'):\n",
        "        with open(filename, 'r') as f:\n",
        "            numbers_str = f.read()\n",
        "        numbers_list = numbers_str.split()\n",
        "        numbers_int = list(map(float, numbers_list))\n",
        "        prediction += numbers_int\n",
        "        counter+=1\n",
        "    elif filename.startswith('actual') and filename.endswith('1.txt'):\n",
        "        with open(filename, 'r') as f:\n",
        "            numbers_str = f.read()\n",
        "        numbers_list = numbers_str.split()\n",
        "        numbers_int = list(map(float, numbers_list))\n",
        "        actual += numbers_int\n",
        "prediction = [round(x, 0) for x in prediction]\n",
        "actual = [round(x, 0) for x in actual]\n",
        "\n",
        "print(counter)\n",
        "accuracy = accuracy_score(actual, prediction)\n",
        "print(f'Accuracy: {accuracy}')"
      ],
      "metadata": {
        "colab": {
          "base_uri": "https://localhost:8080/"
        },
        "id": "0rQW3ymG6jUo",
        "outputId": "43f8e466-638d-4da1-ee61-f1d2d675782f"
      },
      "execution_count": null,
      "outputs": [
        {
          "output_type": "stream",
          "name": "stdout",
          "text": [
            "1000\n",
            "Accuracy: 0.6508690591658584\n"
          ]
        }
      ]
    },
    {
      "cell_type": "code",
      "source": [
        "#calculating accuracy for the 0-laplacian\n",
        "\n",
        "import os\n",
        "import numpy as np\n",
        "from sklearn.metrics import accuracy_score\n",
        "\n",
        "folder_path = '/content/simplicial_neural_networks/experiments/output'\n",
        "\n",
        "files = os.listdir(folder_path)\n",
        "files.sort()\n",
        "\n",
        "prediction = []\n",
        "actual = []\n",
        "\n",
        "counter=0\n",
        "\n",
        "for filename in os.listdir('.'):\n",
        "    if filename.startswith('prediction') and filename.endswith('2.txt'):\n",
        "        with open(filename, 'r') as f:\n",
        "            numbers_str = f.read()\n",
        "        numbers_list = numbers_str.split()\n",
        "        numbers_int = list(map(float, numbers_list))\n",
        "        prediction += numbers_int\n",
        "        counter+=1\n",
        "    elif filename.startswith('actual') and filename.endswith('2.txt'):\n",
        "        with open(filename, 'r') as f:\n",
        "            numbers_str = f.read()\n",
        "        numbers_list = numbers_str.split()\n",
        "        numbers_int = list(map(float, numbers_list))\n",
        "        actual += numbers_int\n",
        "prediction = [round(x, 0) for x in prediction]\n",
        "actual = [round(x, 0) for x in actual]\n",
        "\n",
        "print(counter)\n",
        "accuracy = accuracy_score(actual, prediction)\n",
        "print(f'Accuracy: {accuracy}')"
      ],
      "metadata": {
        "colab": {
          "base_uri": "https://localhost:8080/"
        },
        "id": "R7BQLmNb6m93",
        "outputId": "2a6160c9-d8af-4e84-b2f6-adf89c1d8fba"
      },
      "execution_count": null,
      "outputs": [
        {
          "output_type": "stream",
          "name": "stdout",
          "text": [
            "1000\n",
            "Accuracy: 0.6752018268812527\n"
          ]
        }
      ]
    },
    {
      "cell_type": "code",
      "source": [],
      "metadata": {
        "id": "eWu8U-NUpaZb"
      },
      "execution_count": null,
      "outputs": []
    }
  ],
  "metadata": {
    "kernelspec": {
      "display_name": "Python 3",
      "name": "python3"
    },
    "language_info": {
      "codemirror_mode": {
        "name": "ipython",
        "version": 3
      },
      "file_extension": ".py",
      "mimetype": "text/x-python",
      "name": "python",
      "nbconvert_exporter": "python",
      "pygments_lexer": "ipython3",
      "version": "3.7.4"
    },
    "colab": {
      "provenance": [],
      "gpuType": "T4",
      "include_colab_link": true
    }
  },
  "nbformat": 4,
  "nbformat_minor": 0
}