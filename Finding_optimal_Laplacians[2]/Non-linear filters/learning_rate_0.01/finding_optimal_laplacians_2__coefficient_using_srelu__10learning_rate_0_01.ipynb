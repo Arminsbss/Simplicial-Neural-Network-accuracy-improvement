{
  "nbformat": 4,
  "nbformat_minor": 0,
  "metadata": {
    "colab": {
      "provenance": [],
      "include_colab_link": true
    },
    "kernelspec": {
      "name": "python3",
      "display_name": "Python 3"
    },
    "language_info": {
      "name": "python"
    }
  },
  "cells": [
    {
      "cell_type": "markdown",
      "metadata": {
        "id": "view-in-github",
        "colab_type": "text"
      },
      "source": [
        "<a href=\"https://colab.research.google.com/github/Arminsbss/Simplicial-Neural-Network-accuracy-improvement/blob/main/Finding_optimal_Laplacians%5B2%5D/Non-linear%20filters/learning_rate_0.01/finding_optimal_laplacians_2__coefficient_using_srelu__10learning_rate_0_01.ipynb\" target=\"_parent\"><img src=\"https://colab.research.google.com/assets/colab-badge.svg\" alt=\"Open In Colab\"/></a>"
      ]
    },
    {
      "cell_type": "code",
      "execution_count": null,
      "metadata": {
        "colab": {
          "base_uri": "https://localhost:8080/"
        },
        "id": "QGnOA_G72-Wm",
        "outputId": "9852df98-400a-4645-b542-4e612f78cac2"
      },
      "outputs": [
        {
          "output_type": "stream",
          "name": "stdout",
          "text": [
            "Cloning into 'Simplicial-Neural-Network-accuracy-improvement'...\n",
            "remote: Enumerating objects: 271, done.\u001b[K\n",
            "remote: Counting objects: 100% (268/268), done.\u001b[K\n",
            "remote: Compressing objects: 100% (179/179), done.\u001b[K\n",
            "remote: Total 271 (delta 128), reused 175 (delta 76), pack-reused 3\u001b[K\n",
            "Receiving objects: 100% (271/271), 4.12 MiB | 11.04 MiB/s, done.\n",
            "Resolving deltas: 100% (128/128), done.\n"
          ]
        }
      ],
      "source": [
        "!git clone https://github.com/arminsbss/Simplicial-Neural-Network-accuracy-improvement.git"
      ]
    },
    {
      "cell_type": "code",
      "source": [
        "import random\n",
        "import os\n",
        "import numpy as np\n",
        "from sklearn.metrics import accuracy_score\n",
        "import math\n",
        "\n",
        "Iteration=1\n",
        "random_numbers=[]\n",
        "accuracies_for_0_laplacian=[]\n",
        "accuracies_for_1_laplacian=[]\n",
        "accuracies_for_2_laplacian=[]\n",
        "\n",
        "while Iteration<=1:\n",
        "  %cd /content/Simplicial-Neural-Network-accuracy-improvement/data/s2_3_collaboration_complex\n",
        "  laplacians = np.load('150250_laplacians.npy',allow_pickle=True)\n",
        "\n",
        "  random_number = random.random()\n",
        "  random_numbers.append(random_number)\n",
        "  line_length = 6  # Adjust this value based on how many elements we want in each line\n",
        "  counter = 0\n",
        "  for i in range(4697):\n",
        "    if laplacians[2].data[i]<=-1:\n",
        "      # print(i,'. ',laplacians[2].data[i],end='->')\n",
        "      laplacians[2].data[i] = -10\n",
        "      # print(laplacians[2].data[i],end=', ')\n",
        "      # counter+=1\n",
        "      # if counter == line_length:\n",
        "      #   print()  # Print a new line\n",
        "      #   counter = 0  # Reset the counter\n",
        "  # for i in range(3285):\n",
        "  #   laplacians[2].data[(laplacians[2].row==i) & (laplacians[2].col==i)]+=1\n",
        "\n",
        "  %cd /content/Simplicial-Neural-Network-accuracy-improvement/data/s2_3_collaboration_complex\n",
        "  np.save('150250_laplacians.npy', laplacians)\n",
        "\n",
        "  %cd /content/Simplicial-Neural-Network-accuracy-improvement\n",
        "  !python ./experiments/impute_citations.py ./data/s2_3_collaboration_complex ./experiments/output 150250 30\n",
        "\n",
        "  #calculating accuracy for the 0-laplacian\n",
        "  %cd /content/Simplicial-Neural-Network-accuracy-improvement/experiments/output\n",
        "\n",
        "  folder_path = '/content/Simplicial-Neural-Network-accuracy-improvement/experiments/output'\n",
        "\n",
        "  files = os.listdir(folder_path)\n",
        "  files.sort()\n",
        "\n",
        "  prediction = []\n",
        "  actual = []\n",
        "\n",
        "  for filename in os.listdir('.'):\n",
        "    if filename.startswith('prediction') and filename.endswith('0.txt'):\n",
        "      with open(filename, 'r') as f:\n",
        "          numbers_str = f.read()\n",
        "      numbers_list = numbers_str.split()\n",
        "      numbers_int = list(map(float, numbers_list))\n",
        "      prediction += numbers_int\n",
        "    elif filename.startswith('actual') and filename.endswith('0.txt'):\n",
        "      with open(filename, 'r') as f:\n",
        "          numbers_str = f.read()\n",
        "      numbers_list = numbers_str.split()\n",
        "      numbers_int = list(map(float, numbers_list))\n",
        "      actual += numbers_int\n",
        "  prediction = [round(x, 0) for x in prediction]\n",
        "  actual = [round(x, 0) for x in actual]\n",
        "\n",
        "  accuracy = accuracy_score(actual, prediction)\n",
        "  accuracies_for_0_laplacian.append(accuracy)\n",
        "  print(\"We set this random number: \",random_number)\n",
        "  print(f'Accuracy for 0-laplacian: {accuracy}')\n",
        "\n",
        "  #calculating accuracy for the 1-laplacian\n",
        "  prediction = []\n",
        "  actual = []\n",
        "\n",
        "  for filename in os.listdir('.'):\n",
        "      if filename.startswith('prediction') and filename.endswith('1.txt'):\n",
        "          with open(filename, 'r') as f:\n",
        "              numbers_str = f.read()\n",
        "          numbers_list = numbers_str.split()\n",
        "          numbers_int = list(map(float, numbers_list))\n",
        "          prediction += numbers_int\n",
        "      elif filename.startswith('actual') and filename.endswith('1.txt'):\n",
        "          with open(filename, 'r') as f:\n",
        "              numbers_str = f.read()\n",
        "          numbers_list = numbers_str.split()\n",
        "          numbers_int = list(map(float, numbers_list))\n",
        "          actual += numbers_int\n",
        "  prediction = [round(x, 0) for x in prediction]\n",
        "  actual = [round(x, 0) for x in actual]\n",
        "\n",
        "  accuracy = accuracy_score(actual, prediction)\n",
        "  accuracies_for_1_laplacian.append(accuracy)\n",
        "  print(f'Accuracy for 1-laplacian: {accuracy}')\n",
        "\n",
        "  #calculating accuracy for the 2-laplacian\n",
        "  prediction = []\n",
        "  actual = []\n",
        "\n",
        "  for filename in os.listdir('.'):\n",
        "      if filename.startswith('prediction') and filename.endswith('2.txt'):\n",
        "          with open(filename, 'r') as f:\n",
        "              numbers_str = f.read()\n",
        "          numbers_list = numbers_str.split()\n",
        "          numbers_int = list(map(float, numbers_list))\n",
        "          prediction += numbers_int\n",
        "      elif filename.startswith('actual') and filename.endswith('2.txt'):\n",
        "          with open(filename, 'r') as f:\n",
        "              numbers_str = f.read()\n",
        "          numbers_list = numbers_str.split()\n",
        "          numbers_int = list(map(float, numbers_list))\n",
        "          actual += numbers_int\n",
        "  prediction = [round(x, 0) for x in prediction]\n",
        "  actual = [round(x, 0) for x in actual]\n",
        "\n",
        "  accuracy = accuracy_score(actual, prediction)\n",
        "  accuracies_for_2_laplacian.append(accuracy)\n",
        "  print(f'Accuracy for 2-laplacian: {accuracy}')\n",
        "\n",
        "  max_accuracy0 = max(accuracies_for_0_laplacian)\n",
        "  max_index0 = accuracies_for_0_laplacian.index(max_accuracy0)\n",
        "  print(f\"The maximum accuracy for 0 laplacian is: {max_accuracy0} and its index is: {max_index0} with coefficient {random_numbers[max_index0]}\")\n",
        "\n",
        "  max_accuracy1 = max(accuracies_for_1_laplacian)\n",
        "  max_index1 = accuracies_for_1_laplacian.index(max_accuracy1)\n",
        "  print(f\"The maximum accuracy for 1 laplacian is: {max_accuracy1} and its index is: {max_index1} with coefficient {random_numbers[max_index1]}\")\n",
        "\n",
        "  max_accuracy2 = max(accuracies_for_2_laplacian)\n",
        "  max_index2 = accuracies_for_2_laplacian.index(max_accuracy2)\n",
        "  print(f\"The maximum accuracy for 2 laplacian is: {max_accuracy2} and its index is: {max_index2} with coefficient {random_numbers[max_index2]}\")\n",
        "\n",
        "  Iteration+=1"
      ],
      "metadata": {
        "colab": {
          "base_uri": "https://localhost:8080/"
        },
        "id": "ffVIBHwdMFX9",
        "outputId": "0d9a0afd-98b0-4a00-df11-4a9975a090e3"
      },
      "execution_count": null,
      "outputs": [
        {
          "output_type": "stream",
          "name": "stdout",
          "text": [
            "/content/Simplicial-Neural-Network-accuracy-improvement/data/s2_3_collaboration_complex\n",
            "/content/Simplicial-Neural-Network-accuracy-improvement/data/s2_3_collaboration_complex\n",
            "/content/Simplicial-Neural-Network-accuracy-improvement\n",
            "Parameter counts:\n",
            "150\n",
            "30\n",
            "4500\n",
            "30\n",
            "150\n",
            "1\n",
            "150\n",
            "30\n",
            "4500\n",
            "30\n",
            "150\n",
            "1\n",
            "150\n",
            "30\n",
            "4500\n",
            "30\n",
            "150\n",
            "1\n",
            "Total number of parameters: 14583\n",
            "[0.6988636363636364, 0.6994572591587517, 0.6998477929984779]\n",
            "/content/Simplicial-Neural-Network-accuracy-improvement/experiments/output\n",
            "We set this random number:  0.7367276637517194\n",
            "Accuracy for 0-laplacian: 0.5470975609756098\n",
            "Accuracy for 1-laplacian: 0.5357817652764306\n",
            "Accuracy for 2-laplacian: 0.6088147020443672\n",
            "The maximum accuracy for 0 laplacian is: 0.5470975609756098 and its index is: 0 with coefficient 0.7367276637517194\n",
            "The maximum accuracy for 1 laplacian is: 0.5357817652764306 and its index is: 0 with coefficient 0.7367276637517194\n",
            "The maximum accuracy for 2 laplacian is: 0.6088147020443672 and its index is: 0 with coefficient 0.7367276637517194\n"
          ]
        }
      ]
    },
    {
      "cell_type": "code",
      "source": [
        "# 0-laplacian accuracies\n",
        "for i in range(len(accuracies_for_0_laplacian)):\n",
        "  print(\"0-laplacian accuracy: \",accuracies_for_0_laplacian[i],\"for random number: \",random_numbers[i])"
      ],
      "metadata": {
        "colab": {
          "base_uri": "https://localhost:8080/"
        },
        "id": "syWnD1_LDwbB",
        "outputId": "5deb20f6-61c1-4e03-8c98-940378d6f090"
      },
      "execution_count": null,
      "outputs": [
        {
          "output_type": "stream",
          "name": "stdout",
          "text": [
            "0-laplacian accuracy:  0.5470975609756098 for random number:  0.7367276637517194\n"
          ]
        }
      ]
    },
    {
      "cell_type": "code",
      "source": [
        "# 1-laplacian accuracies\n",
        "for i in range(len(accuracies_for_1_laplacian)):\n",
        "  print(\"1-laplacian accuracy: \",accuracies_for_1_laplacian[i],\"for random number: \",random_numbers[i])"
      ],
      "metadata": {
        "colab": {
          "base_uri": "https://localhost:8080/"
        },
        "id": "u-2nCKKuE0Kr",
        "outputId": "ad5ce184-fb6f-478a-a296-f61f530f23a6"
      },
      "execution_count": null,
      "outputs": [
        {
          "output_type": "stream",
          "name": "stdout",
          "text": [
            "1-laplacian accuracy:  0.5357817652764306 for random number:  0.7367276637517194\n"
          ]
        }
      ]
    },
    {
      "cell_type": "code",
      "source": [
        "# 2-laplacian accuracies\n",
        "for i in range(len(accuracies_for_2_laplacian)):\n",
        "  print(\"2-laplacian accuracy: \",accuracies_for_2_laplacian[i],\"for random number: \",random_numbers[i])"
      ],
      "metadata": {
        "colab": {
          "base_uri": "https://localhost:8080/"
        },
        "id": "KwYQsSE_E1Fj",
        "outputId": "1f037ec1-d7bd-4854-f897-e4d495bc624c"
      },
      "execution_count": null,
      "outputs": [
        {
          "output_type": "stream",
          "name": "stdout",
          "text": [
            "2-laplacian accuracy:  0.6088147020443672 for random number:  0.7367276637517194\n"
          ]
        }
      ]
    },
    {
      "cell_type": "code",
      "source": [
        "print(\"Max accuracy we got: \",max_accuracy0,max_accuracy1,max_accuracy2)"
      ],
      "metadata": {
        "colab": {
          "base_uri": "https://localhost:8080/"
        },
        "id": "N386ALRTFaDQ",
        "outputId": "b1c658cd-b992-46a0-f5a2-9f1c6c3af1f4"
      },
      "execution_count": null,
      "outputs": [
        {
          "output_type": "stream",
          "name": "stdout",
          "text": [
            "Max accuracy we got:  0.5470975609756098 0.5357817652764306 0.6088147020443672\n"
          ]
        }
      ]
    }
  ]
}